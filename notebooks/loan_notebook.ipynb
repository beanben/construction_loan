{
 "cells": [
  {
   "cell_type": "code",
   "execution_count": 10,
   "metadata": {
    "hide_input": false
   },
   "outputs": [
    {
     "name": "stdout",
     "output_type": "stream",
     "text": [
      "Automatic pdb calling has been turned ON\n"
     ]
    }
   ],
   "source": [
    "# Adds the parent directory to the path to find the construction_loan package\n",
    "import pandas as pd\n",
    "import sys\n",
    "sys.path.append('..')\n",
    "\n",
    "from construction_loan.budget import Budget\n",
    "from construction_loan.cashflow import Cashflow\n",
    "from construction_loan.visualiser import DataVisualiser\n",
    "\n",
    "%pdb on\n",
    "\n",
    "visualiser = DataVisualiser()"
   ]
  },
  {
   "cell_type": "code",
   "execution_count": 11,
   "metadata": {
    "hide_input": false,
    "scrolled": true
   },
   "outputs": [
    {
     "name": "stdout",
     "output_type": "stream",
     "text": [
      "Execution of from_csv took 0.007436037063598633 seconds\n",
      "Execution of from_budget took 0.07645797729492188 seconds\n"
     ]
    }
   ],
   "source": [
    "# define budget and cashflow instances\n",
    "csv_file = '../data/jensco_budget.csv'\n",
    "budget_instance = Budget.from_csv(csv_file)\n",
    "cashflow_instance = Cashflow.from_budget(budget_instance)"
   ]
  },
  {
   "cell_type": "code",
   "execution_count": 12,
   "metadata": {},
   "outputs": [],
   "source": [
    "# visualiser.display_dataframe(budget_instance.df)"
   ]
  },
  {
   "cell_type": "code",
   "execution_count": 13,
   "metadata": {},
   "outputs": [],
   "source": [
    "# visualiser.display_dataframe(budget_instance.total_cost_by_level('cost_category'))"
   ]
  },
  {
   "cell_type": "code",
   "execution_count": 14,
   "metadata": {},
   "outputs": [],
   "source": [
    "# visualiser.display_dataframe(cashflow_instance.df)"
   ]
  },
  {
   "cell_type": "code",
   "execution_count": 15,
   "metadata": {},
   "outputs": [],
   "source": [
    "# visualiser.display_dataframe(cashflow_instance.costs_summary())"
   ]
  },
  {
   "cell_type": "code",
   "execution_count": 16,
   "metadata": {
    "scrolled": true
   },
   "outputs": [
    {
     "data": {
      "application/vnd.plotly.v1+json": {
       "config": {
        "plotlyServerURL": "https://plot.ly"
       },
       "data": [
        {
         "hoverinfo": "text",
         "line": {
          "dash": "dot"
         },
         "mode": "lines+markers",
         "name": "Acquisition costs Site acquisition nan",
         "text": [
          "Acquisition costs Site acquisition nan: 7740000.0",
          "Acquisition costs Site acquisition nan: 0.0",
          "Acquisition costs Site acquisition nan: 0.0",
          "Acquisition costs Site acquisition nan: 0.0",
          "Acquisition costs Site acquisition nan: 0.0",
          "Acquisition costs Site acquisition nan: 0.0",
          "Acquisition costs Site acquisition nan: 0.0",
          "Acquisition costs Site acquisition nan: 0.0",
          "Acquisition costs Site acquisition nan: 0.0",
          "Acquisition costs Site acquisition nan: 0.0",
          "Acquisition costs Site acquisition nan: 0.0",
          "Acquisition costs Site acquisition nan: 0.0",
          "Acquisition costs Site acquisition nan: 0.0",
          "Acquisition costs Site acquisition nan: 0.0",
          "Acquisition costs Site acquisition nan: 0.0",
          "Acquisition costs Site acquisition nan: 0.0",
          "Acquisition costs Site acquisition nan: 0.0",
          "Acquisition costs Site acquisition nan: 0.0",
          "Acquisition costs Site acquisition nan: 0.0",
          "Acquisition costs Site acquisition nan: 0.0",
          "Acquisition costs Site acquisition nan: 0.0",
          "Acquisition costs Site acquisition nan: 0.0"
         ],
         "type": "scatter",
         "x": [
          "2020-12-31T00:00:00",
          "2021-01-31T00:00:00",
          "2021-02-28T00:00:00",
          "2021-03-31T00:00:00",
          "2021-04-30T00:00:00",
          "2021-05-31T00:00:00",
          "2021-06-30T00:00:00",
          "2021-07-31T00:00:00",
          "2021-08-31T00:00:00",
          "2021-09-30T00:00:00",
          "2021-10-31T00:00:00",
          "2021-11-30T00:00:00",
          "2021-12-31T00:00:00",
          "2022-01-31T00:00:00",
          "2022-02-28T00:00:00",
          "2022-03-31T00:00:00",
          "2022-04-30T00:00:00",
          "2022-05-31T00:00:00",
          "2022-06-30T00:00:00",
          "2022-07-31T00:00:00",
          "2022-08-31T00:00:00",
          "2022-09-30T00:00:00"
         ],
         "y": [
          7740000,
          0,
          0,
          0,
          0,
          0,
          0,
          0,
          0,
          0,
          0,
          0,
          0,
          0,
          0,
          0,
          0,
          0,
          0,
          0,
          0,
          0
         ]
        },
        {
         "hoverinfo": "text",
         "line": {
          "dash": "dot"
         },
         "mode": "lines+markers",
         "name": "Other acquisition costs Stamp Duty inc VAT (on actual purchase) nan",
         "text": [
          "Other acquisition costs Stamp Duty inc VAT (on actual purchase) nan: 189500.0",
          "Other acquisition costs Stamp Duty inc VAT (on actual purchase) nan: 0.0",
          "Other acquisition costs Stamp Duty inc VAT (on actual purchase) nan: 0.0",
          "Other acquisition costs Stamp Duty inc VAT (on actual purchase) nan: 0.0",
          "Other acquisition costs Stamp Duty inc VAT (on actual purchase) nan: 0.0",
          "Other acquisition costs Stamp Duty inc VAT (on actual purchase) nan: 0.0",
          "Other acquisition costs Stamp Duty inc VAT (on actual purchase) nan: 0.0",
          "Other acquisition costs Stamp Duty inc VAT (on actual purchase) nan: 0.0",
          "Other acquisition costs Stamp Duty inc VAT (on actual purchase) nan: 0.0",
          "Other acquisition costs Stamp Duty inc VAT (on actual purchase) nan: 0.0",
          "Other acquisition costs Stamp Duty inc VAT (on actual purchase) nan: 0.0",
          "Other acquisition costs Stamp Duty inc VAT (on actual purchase) nan: 0.0",
          "Other acquisition costs Stamp Duty inc VAT (on actual purchase) nan: 0.0",
          "Other acquisition costs Stamp Duty inc VAT (on actual purchase) nan: 0.0",
          "Other acquisition costs Stamp Duty inc VAT (on actual purchase) nan: 0.0",
          "Other acquisition costs Stamp Duty inc VAT (on actual purchase) nan: 0.0",
          "Other acquisition costs Stamp Duty inc VAT (on actual purchase) nan: 0.0",
          "Other acquisition costs Stamp Duty inc VAT (on actual purchase) nan: 0.0",
          "Other acquisition costs Stamp Duty inc VAT (on actual purchase) nan: 0.0",
          "Other acquisition costs Stamp Duty inc VAT (on actual purchase) nan: 0.0",
          "Other acquisition costs Stamp Duty inc VAT (on actual purchase) nan: 0.0",
          "Other acquisition costs Stamp Duty inc VAT (on actual purchase) nan: 0.0"
         ],
         "type": "scatter",
         "x": [
          "2020-12-31T00:00:00",
          "2021-01-31T00:00:00",
          "2021-02-28T00:00:00",
          "2021-03-31T00:00:00",
          "2021-04-30T00:00:00",
          "2021-05-31T00:00:00",
          "2021-06-30T00:00:00",
          "2021-07-31T00:00:00",
          "2021-08-31T00:00:00",
          "2021-09-30T00:00:00",
          "2021-10-31T00:00:00",
          "2021-11-30T00:00:00",
          "2021-12-31T00:00:00",
          "2022-01-31T00:00:00",
          "2022-02-28T00:00:00",
          "2022-03-31T00:00:00",
          "2022-04-30T00:00:00",
          "2022-05-31T00:00:00",
          "2022-06-30T00:00:00",
          "2022-07-31T00:00:00",
          "2022-08-31T00:00:00",
          "2022-09-30T00:00:00"
         ],
         "y": [
          189500,
          0,
          0,
          0,
          0,
          0,
          0,
          0,
          0,
          0,
          0,
          0,
          0,
          0,
          0,
          0,
          0,
          0,
          0,
          0,
          0,
          0
         ]
        },
        {
         "hoverinfo": "text",
         "line": {
          "dash": "dot"
         },
         "mode": "lines+markers",
         "name": "Other acquisition costs Jensco legal costs land & S106 nan",
         "text": [
          "Other acquisition costs Jensco legal costs land & S106 nan: 23563.0",
          "Other acquisition costs Jensco legal costs land & S106 nan: 0.0",
          "Other acquisition costs Jensco legal costs land & S106 nan: 0.0",
          "Other acquisition costs Jensco legal costs land & S106 nan: 0.0",
          "Other acquisition costs Jensco legal costs land & S106 nan: 0.0",
          "Other acquisition costs Jensco legal costs land & S106 nan: 0.0",
          "Other acquisition costs Jensco legal costs land & S106 nan: 0.0",
          "Other acquisition costs Jensco legal costs land & S106 nan: 0.0",
          "Other acquisition costs Jensco legal costs land & S106 nan: 0.0",
          "Other acquisition costs Jensco legal costs land & S106 nan: 0.0",
          "Other acquisition costs Jensco legal costs land & S106 nan: 0.0",
          "Other acquisition costs Jensco legal costs land & S106 nan: 0.0",
          "Other acquisition costs Jensco legal costs land & S106 nan: 0.0",
          "Other acquisition costs Jensco legal costs land & S106 nan: 0.0",
          "Other acquisition costs Jensco legal costs land & S106 nan: 0.0",
          "Other acquisition costs Jensco legal costs land & S106 nan: 0.0",
          "Other acquisition costs Jensco legal costs land & S106 nan: 0.0",
          "Other acquisition costs Jensco legal costs land & S106 nan: 0.0",
          "Other acquisition costs Jensco legal costs land & S106 nan: 0.0",
          "Other acquisition costs Jensco legal costs land & S106 nan: 0.0",
          "Other acquisition costs Jensco legal costs land & S106 nan: 0.0",
          "Other acquisition costs Jensco legal costs land & S106 nan: 0.0"
         ],
         "type": "scatter",
         "x": [
          "2020-12-31T00:00:00",
          "2021-01-31T00:00:00",
          "2021-02-28T00:00:00",
          "2021-03-31T00:00:00",
          "2021-04-30T00:00:00",
          "2021-05-31T00:00:00",
          "2021-06-30T00:00:00",
          "2021-07-31T00:00:00",
          "2021-08-31T00:00:00",
          "2021-09-30T00:00:00",
          "2021-10-31T00:00:00",
          "2021-11-30T00:00:00",
          "2021-12-31T00:00:00",
          "2022-01-31T00:00:00",
          "2022-02-28T00:00:00",
          "2022-03-31T00:00:00",
          "2022-04-30T00:00:00",
          "2022-05-31T00:00:00",
          "2022-06-30T00:00:00",
          "2022-07-31T00:00:00",
          "2022-08-31T00:00:00",
          "2022-09-30T00:00:00"
         ],
         "y": [
          23563,
          0,
          0,
          0,
          0,
          0,
          0,
          0,
          0,
          0,
          0,
          0,
          0,
          0,
          0,
          0,
          0,
          0,
          0,
          0,
          0,
          0
         ]
        },
        {
         "hoverinfo": "text",
         "line": {
          "dash": "dot"
         },
         "mode": "lines+markers",
         "name": "Other acquisition costs Jensco legal costs funding (inc Oak North) nan",
         "text": [
          "Other acquisition costs Jensco legal costs funding (inc Oak North) nan: 39350.0",
          "Other acquisition costs Jensco legal costs funding (inc Oak North) nan: 0.0",
          "Other acquisition costs Jensco legal costs funding (inc Oak North) nan: 0.0",
          "Other acquisition costs Jensco legal costs funding (inc Oak North) nan: 0.0",
          "Other acquisition costs Jensco legal costs funding (inc Oak North) nan: 0.0",
          "Other acquisition costs Jensco legal costs funding (inc Oak North) nan: 0.0",
          "Other acquisition costs Jensco legal costs funding (inc Oak North) nan: 0.0",
          "Other acquisition costs Jensco legal costs funding (inc Oak North) nan: 0.0",
          "Other acquisition costs Jensco legal costs funding (inc Oak North) nan: 0.0",
          "Other acquisition costs Jensco legal costs funding (inc Oak North) nan: 0.0",
          "Other acquisition costs Jensco legal costs funding (inc Oak North) nan: 0.0",
          "Other acquisition costs Jensco legal costs funding (inc Oak North) nan: 0.0",
          "Other acquisition costs Jensco legal costs funding (inc Oak North) nan: 0.0",
          "Other acquisition costs Jensco legal costs funding (inc Oak North) nan: 0.0",
          "Other acquisition costs Jensco legal costs funding (inc Oak North) nan: 0.0",
          "Other acquisition costs Jensco legal costs funding (inc Oak North) nan: 0.0",
          "Other acquisition costs Jensco legal costs funding (inc Oak North) nan: 0.0",
          "Other acquisition costs Jensco legal costs funding (inc Oak North) nan: 0.0",
          "Other acquisition costs Jensco legal costs funding (inc Oak North) nan: 0.0",
          "Other acquisition costs Jensco legal costs funding (inc Oak North) nan: 0.0",
          "Other acquisition costs Jensco legal costs funding (inc Oak North) nan: 0.0",
          "Other acquisition costs Jensco legal costs funding (inc Oak North) nan: 0.0"
         ],
         "type": "scatter",
         "x": [
          "2020-12-31T00:00:00",
          "2021-01-31T00:00:00",
          "2021-02-28T00:00:00",
          "2021-03-31T00:00:00",
          "2021-04-30T00:00:00",
          "2021-05-31T00:00:00",
          "2021-06-30T00:00:00",
          "2021-07-31T00:00:00",
          "2021-08-31T00:00:00",
          "2021-09-30T00:00:00",
          "2021-10-31T00:00:00",
          "2021-11-30T00:00:00",
          "2021-12-31T00:00:00",
          "2022-01-31T00:00:00",
          "2022-02-28T00:00:00",
          "2022-03-31T00:00:00",
          "2022-04-30T00:00:00",
          "2022-05-31T00:00:00",
          "2022-06-30T00:00:00",
          "2022-07-31T00:00:00",
          "2022-08-31T00:00:00",
          "2022-09-30T00:00:00"
         ],
         "y": [
          39350,
          0,
          0,
          0,
          0,
          0,
          0,
          0,
          0,
          0,
          0,
          0,
          0,
          0,
          0,
          0,
          0,
          0,
          0,
          0,
          0,
          0
         ]
        },
        {
         "hoverinfo": "text",
         "line": {
          "dash": "dot"
         },
         "mode": "lines+markers",
         "name": "Other acquisition costs Jensco legal costs - Kinetic funding nan",
         "text": [
          "Other acquisition costs Jensco legal costs - Kinetic funding nan: 33150.0",
          "Other acquisition costs Jensco legal costs - Kinetic funding nan: 0.0",
          "Other acquisition costs Jensco legal costs - Kinetic funding nan: 0.0",
          "Other acquisition costs Jensco legal costs - Kinetic funding nan: 0.0",
          "Other acquisition costs Jensco legal costs - Kinetic funding nan: 0.0",
          "Other acquisition costs Jensco legal costs - Kinetic funding nan: 0.0",
          "Other acquisition costs Jensco legal costs - Kinetic funding nan: 0.0",
          "Other acquisition costs Jensco legal costs - Kinetic funding nan: 0.0",
          "Other acquisition costs Jensco legal costs - Kinetic funding nan: 0.0",
          "Other acquisition costs Jensco legal costs - Kinetic funding nan: 0.0",
          "Other acquisition costs Jensco legal costs - Kinetic funding nan: 0.0",
          "Other acquisition costs Jensco legal costs - Kinetic funding nan: 0.0",
          "Other acquisition costs Jensco legal costs - Kinetic funding nan: 0.0",
          "Other acquisition costs Jensco legal costs - Kinetic funding nan: 0.0",
          "Other acquisition costs Jensco legal costs - Kinetic funding nan: 0.0",
          "Other acquisition costs Jensco legal costs - Kinetic funding nan: 0.0",
          "Other acquisition costs Jensco legal costs - Kinetic funding nan: 0.0",
          "Other acquisition costs Jensco legal costs - Kinetic funding nan: 0.0",
          "Other acquisition costs Jensco legal costs - Kinetic funding nan: 0.0",
          "Other acquisition costs Jensco legal costs - Kinetic funding nan: 0.0",
          "Other acquisition costs Jensco legal costs - Kinetic funding nan: 0.0",
          "Other acquisition costs Jensco legal costs - Kinetic funding nan: 0.0"
         ],
         "type": "scatter",
         "x": [
          "2020-12-31T00:00:00",
          "2021-01-31T00:00:00",
          "2021-02-28T00:00:00",
          "2021-03-31T00:00:00",
          "2021-04-30T00:00:00",
          "2021-05-31T00:00:00",
          "2021-06-30T00:00:00",
          "2021-07-31T00:00:00",
          "2021-08-31T00:00:00",
          "2021-09-30T00:00:00",
          "2021-10-31T00:00:00",
          "2021-11-30T00:00:00",
          "2021-12-31T00:00:00",
          "2022-01-31T00:00:00",
          "2022-02-28T00:00:00",
          "2022-03-31T00:00:00",
          "2022-04-30T00:00:00",
          "2022-05-31T00:00:00",
          "2022-06-30T00:00:00",
          "2022-07-31T00:00:00",
          "2022-08-31T00:00:00",
          "2022-09-30T00:00:00"
         ],
         "y": [
          33150,
          0,
          0,
          0,
          0,
          0,
          0,
          0,
          0,
          0,
          0,
          0,
          0,
          0,
          0,
          0,
          0,
          0,
          0,
          0,
          0,
          0
         ]
        },
        {
         "hoverinfo": "text",
         "line": {
          "dash": "dot"
         },
         "mode": "lines+markers",
         "name": "Other acquisition costs Jensco legal fees - construction nan",
         "text": [
          "Other acquisition costs Jensco legal fees - construction nan: 38400.0",
          "Other acquisition costs Jensco legal fees - construction nan: 0.0",
          "Other acquisition costs Jensco legal fees - construction nan: 0.0",
          "Other acquisition costs Jensco legal fees - construction nan: 0.0",
          "Other acquisition costs Jensco legal fees - construction nan: 0.0",
          "Other acquisition costs Jensco legal fees - construction nan: 0.0",
          "Other acquisition costs Jensco legal fees - construction nan: 0.0",
          "Other acquisition costs Jensco legal fees - construction nan: 0.0",
          "Other acquisition costs Jensco legal fees - construction nan: 0.0",
          "Other acquisition costs Jensco legal fees - construction nan: 0.0",
          "Other acquisition costs Jensco legal fees - construction nan: 0.0",
          "Other acquisition costs Jensco legal fees - construction nan: 0.0",
          "Other acquisition costs Jensco legal fees - construction nan: 0.0",
          "Other acquisition costs Jensco legal fees - construction nan: 0.0",
          "Other acquisition costs Jensco legal fees - construction nan: 0.0",
          "Other acquisition costs Jensco legal fees - construction nan: 0.0",
          "Other acquisition costs Jensco legal fees - construction nan: 0.0",
          "Other acquisition costs Jensco legal fees - construction nan: 0.0",
          "Other acquisition costs Jensco legal fees - construction nan: 0.0",
          "Other acquisition costs Jensco legal fees - construction nan: 0.0",
          "Other acquisition costs Jensco legal fees - construction nan: 0.0",
          "Other acquisition costs Jensco legal fees - construction nan: 0.0"
         ],
         "type": "scatter",
         "x": [
          "2020-12-31T00:00:00",
          "2021-01-31T00:00:00",
          "2021-02-28T00:00:00",
          "2021-03-31T00:00:00",
          "2021-04-30T00:00:00",
          "2021-05-31T00:00:00",
          "2021-06-30T00:00:00",
          "2021-07-31T00:00:00",
          "2021-08-31T00:00:00",
          "2021-09-30T00:00:00",
          "2021-10-31T00:00:00",
          "2021-11-30T00:00:00",
          "2021-12-31T00:00:00",
          "2022-01-31T00:00:00",
          "2022-02-28T00:00:00",
          "2022-03-31T00:00:00",
          "2022-04-30T00:00:00",
          "2022-05-31T00:00:00",
          "2022-06-30T00:00:00",
          "2022-07-31T00:00:00",
          "2022-08-31T00:00:00",
          "2022-09-30T00:00:00"
         ],
         "y": [
          38400,
          0,
          0,
          0,
          0,
          0,
          0,
          0,
          0,
          0,
          0,
          0,
          0,
          0,
          0,
          0,
          0,
          0,
          0,
          0,
          0,
          0
         ]
        },
        {
         "hoverinfo": "text",
         "line": {
          "dash": "dot"
         },
         "mode": "lines+markers",
         "name": "Other acquisition costs Bank Valuation Fees nan",
         "text": [
          "Other acquisition costs Bank Valuation Fees nan: 16200.0",
          "Other acquisition costs Bank Valuation Fees nan: 0.0",
          "Other acquisition costs Bank Valuation Fees nan: 0.0",
          "Other acquisition costs Bank Valuation Fees nan: 0.0",
          "Other acquisition costs Bank Valuation Fees nan: 0.0",
          "Other acquisition costs Bank Valuation Fees nan: 0.0",
          "Other acquisition costs Bank Valuation Fees nan: 0.0",
          "Other acquisition costs Bank Valuation Fees nan: 0.0",
          "Other acquisition costs Bank Valuation Fees nan: 0.0",
          "Other acquisition costs Bank Valuation Fees nan: 0.0",
          "Other acquisition costs Bank Valuation Fees nan: 0.0",
          "Other acquisition costs Bank Valuation Fees nan: 0.0",
          "Other acquisition costs Bank Valuation Fees nan: 0.0",
          "Other acquisition costs Bank Valuation Fees nan: 0.0",
          "Other acquisition costs Bank Valuation Fees nan: 0.0",
          "Other acquisition costs Bank Valuation Fees nan: 0.0",
          "Other acquisition costs Bank Valuation Fees nan: 0.0",
          "Other acquisition costs Bank Valuation Fees nan: 0.0",
          "Other acquisition costs Bank Valuation Fees nan: 0.0",
          "Other acquisition costs Bank Valuation Fees nan: 0.0",
          "Other acquisition costs Bank Valuation Fees nan: 0.0",
          "Other acquisition costs Bank Valuation Fees nan: 0.0"
         ],
         "type": "scatter",
         "x": [
          "2020-12-31T00:00:00",
          "2021-01-31T00:00:00",
          "2021-02-28T00:00:00",
          "2021-03-31T00:00:00",
          "2021-04-30T00:00:00",
          "2021-05-31T00:00:00",
          "2021-06-30T00:00:00",
          "2021-07-31T00:00:00",
          "2021-08-31T00:00:00",
          "2021-09-30T00:00:00",
          "2021-10-31T00:00:00",
          "2021-11-30T00:00:00",
          "2021-12-31T00:00:00",
          "2022-01-31T00:00:00",
          "2022-02-28T00:00:00",
          "2022-03-31T00:00:00",
          "2022-04-30T00:00:00",
          "2022-05-31T00:00:00",
          "2022-06-30T00:00:00",
          "2022-07-31T00:00:00",
          "2022-08-31T00:00:00",
          "2022-09-30T00:00:00"
         ],
         "y": [
          16200,
          0,
          0,
          0,
          0,
          0,
          0,
          0,
          0,
          0,
          0,
          0,
          0,
          0,
          0,
          0,
          0,
          0,
          0,
          0,
          0,
          0
         ]
        },
        {
         "hoverinfo": "text",
         "line": {
          "dash": "dot"
         },
         "mode": "lines+markers",
         "name": "Other acquisition costs Vat recovered on day 1 costs nan",
         "text": [
          "Other acquisition costs Vat recovered on day 1 costs nan: 0.0",
          "Other acquisition costs Vat recovered on day 1 costs nan: 0.0",
          "Other acquisition costs Vat recovered on day 1 costs nan: -20941.0",
          "Other acquisition costs Vat recovered on day 1 costs nan: 0.0",
          "Other acquisition costs Vat recovered on day 1 costs nan: 0.0",
          "Other acquisition costs Vat recovered on day 1 costs nan: 0.0",
          "Other acquisition costs Vat recovered on day 1 costs nan: 0.0",
          "Other acquisition costs Vat recovered on day 1 costs nan: 0.0",
          "Other acquisition costs Vat recovered on day 1 costs nan: 0.0",
          "Other acquisition costs Vat recovered on day 1 costs nan: 0.0",
          "Other acquisition costs Vat recovered on day 1 costs nan: 0.0",
          "Other acquisition costs Vat recovered on day 1 costs nan: 0.0",
          "Other acquisition costs Vat recovered on day 1 costs nan: 0.0",
          "Other acquisition costs Vat recovered on day 1 costs nan: 0.0",
          "Other acquisition costs Vat recovered on day 1 costs nan: 0.0",
          "Other acquisition costs Vat recovered on day 1 costs nan: 0.0",
          "Other acquisition costs Vat recovered on day 1 costs nan: 0.0",
          "Other acquisition costs Vat recovered on day 1 costs nan: 0.0",
          "Other acquisition costs Vat recovered on day 1 costs nan: 0.0",
          "Other acquisition costs Vat recovered on day 1 costs nan: 0.0",
          "Other acquisition costs Vat recovered on day 1 costs nan: 0.0",
          "Other acquisition costs Vat recovered on day 1 costs nan: 0.0"
         ],
         "type": "scatter",
         "x": [
          "2020-12-31T00:00:00",
          "2021-01-31T00:00:00",
          "2021-02-28T00:00:00",
          "2021-03-31T00:00:00",
          "2021-04-30T00:00:00",
          "2021-05-31T00:00:00",
          "2021-06-30T00:00:00",
          "2021-07-31T00:00:00",
          "2021-08-31T00:00:00",
          "2021-09-30T00:00:00",
          "2021-10-31T00:00:00",
          "2021-11-30T00:00:00",
          "2021-12-31T00:00:00",
          "2022-01-31T00:00:00",
          "2022-02-28T00:00:00",
          "2022-03-31T00:00:00",
          "2022-04-30T00:00:00",
          "2022-05-31T00:00:00",
          "2022-06-30T00:00:00",
          "2022-07-31T00:00:00",
          "2022-08-31T00:00:00",
          "2022-09-30T00:00:00"
         ],
         "y": [
          0,
          0,
          -20941,
          0,
          0,
          0,
          0,
          0,
          0,
          0,
          0,
          0,
          0,
          0,
          0,
          0,
          0,
          0,
          0,
          0,
          0,
          0
         ]
        },
        {
         "hoverinfo": "text",
         "line": {
          "dash": "dot"
         },
         "mode": "lines+markers",
         "name": "Construction costs Construction costs nan",
         "text": [
          "Construction costs Construction costs nan: 0.0",
          "Construction costs Construction costs nan: 0.0",
          "Construction costs Construction costs nan: 1257945.52",
          "Construction costs Construction costs nan: 1499858.1199999999",
          "Construction costs Construction costs nan: 1451475.5999999999",
          "Construction costs Construction costs nan: 1499858.1199999999",
          "Construction costs Construction costs nan: 1451475.5999999999",
          "Construction costs Construction costs nan: 1499858.1199999999",
          "Construction costs Construction costs nan: 1499858.1199999999",
          "Construction costs Construction costs nan: 1451475.5999999999",
          "Construction costs Construction costs nan: 1499858.1199999999",
          "Construction costs Construction costs nan: 1451475.5999999999",
          "Construction costs Construction costs nan: 1499858.1199999999",
          "Construction costs Construction costs nan: 1499858.1199999999",
          "Construction costs Construction costs nan: 1354710.5599999998",
          "Construction costs Construction costs nan: 1499858.1199999999",
          "Construction costs Construction costs nan: 1451475.5999999999",
          "Construction costs Construction costs nan: 1499858.1199999999",
          "Construction costs Construction costs nan: 1451475.5999999999",
          "Construction costs Construction costs nan: 1499858.1199999999",
          "Construction costs Construction costs nan: 1499858.1199999999",
          "Construction costs Construction costs nan: 1451476.9999999984"
         ],
         "type": "scatter",
         "x": [
          "2020-12-31T00:00:00",
          "2021-01-31T00:00:00",
          "2021-02-28T00:00:00",
          "2021-03-31T00:00:00",
          "2021-04-30T00:00:00",
          "2021-05-31T00:00:00",
          "2021-06-30T00:00:00",
          "2021-07-31T00:00:00",
          "2021-08-31T00:00:00",
          "2021-09-30T00:00:00",
          "2021-10-31T00:00:00",
          "2021-11-30T00:00:00",
          "2021-12-31T00:00:00",
          "2022-01-31T00:00:00",
          "2022-02-28T00:00:00",
          "2022-03-31T00:00:00",
          "2022-04-30T00:00:00",
          "2022-05-31T00:00:00",
          "2022-06-30T00:00:00",
          "2022-07-31T00:00:00",
          "2022-08-31T00:00:00",
          "2022-09-30T00:00:00"
         ],
         "y": [
          0,
          0,
          1257945.52,
          1499858.1199999999,
          1451475.5999999999,
          1499858.1199999999,
          1451475.5999999999,
          1499858.1199999999,
          1499858.1199999999,
          1451475.5999999999,
          1499858.1199999999,
          1451475.5999999999,
          1499858.1199999999,
          1499858.1199999999,
          1354710.5599999998,
          1499858.1199999999,
          1451475.5999999999,
          1499858.1199999999,
          1451475.5999999999,
          1499858.1199999999,
          1499858.1199999999,
          1451476.9999999984
         ]
        },
        {
         "hoverinfo": "text",
         "line": {
          "dash": "dot"
         },
         "mode": "lines+markers",
         "name": "Professional fees Development Management Fee nan",
         "text": [
          "Professional fees Development Management Fee nan: 0.0",
          "Professional fees Development Management Fee nan: 0.0",
          "Professional fees Development Management Fee nan: 0.0",
          "Professional fees Development Management Fee nan: 0.0",
          "Professional fees Development Management Fee nan: 0.0",
          "Professional fees Development Management Fee nan: 0.0",
          "Professional fees Development Management Fee nan: 0.0",
          "Professional fees Development Management Fee nan: 0.0",
          "Professional fees Development Management Fee nan: 0.0",
          "Professional fees Development Management Fee nan: 0.0",
          "Professional fees Development Management Fee nan: 0.0",
          "Professional fees Development Management Fee nan: 0.0",
          "Professional fees Development Management Fee nan: 0.0",
          "Professional fees Development Management Fee nan: 0.0",
          "Professional fees Development Management Fee nan: 0.0",
          "Professional fees Development Management Fee nan: 0.0",
          "Professional fees Development Management Fee nan: 0.0",
          "Professional fees Development Management Fee nan: 0.0",
          "Professional fees Development Management Fee nan: 0.0",
          "Professional fees Development Management Fee nan: 0.0",
          "Professional fees Development Management Fee nan: 0.0",
          "Professional fees Development Management Fee nan: 338000.0"
         ],
         "type": "scatter",
         "x": [
          "2020-12-31T00:00:00",
          "2021-01-31T00:00:00",
          "2021-02-28T00:00:00",
          "2021-03-31T00:00:00",
          "2021-04-30T00:00:00",
          "2021-05-31T00:00:00",
          "2021-06-30T00:00:00",
          "2021-07-31T00:00:00",
          "2021-08-31T00:00:00",
          "2021-09-30T00:00:00",
          "2021-10-31T00:00:00",
          "2021-11-30T00:00:00",
          "2021-12-31T00:00:00",
          "2022-01-31T00:00:00",
          "2022-02-28T00:00:00",
          "2022-03-31T00:00:00",
          "2022-04-30T00:00:00",
          "2022-05-31T00:00:00",
          "2022-06-30T00:00:00",
          "2022-07-31T00:00:00",
          "2022-08-31T00:00:00",
          "2022-09-30T00:00:00"
         ],
         "y": [
          0,
          0,
          0,
          0,
          0,
          0,
          0,
          0,
          0,
          0,
          0,
          0,
          0,
          0,
          0,
          0,
          0,
          0,
          0,
          0,
          0,
          338000
         ]
        },
        {
         "hoverinfo": "text",
         "line": {
          "dash": "dot"
         },
         "mode": "lines+markers",
         "name": "Professional fees Project managers & QS nan",
         "text": [
          "Professional fees Project managers & QS nan: 0.0",
          "Professional fees Project managers & QS nan: 0.0",
          "Professional fees Project managers & QS nan: 1899.65",
          "Professional fees Project managers & QS nan: 11777.83",
          "Professional fees Project managers & QS nan: 11397.9",
          "Professional fees Project managers & QS nan: 11777.83",
          "Professional fees Project managers & QS nan: 11397.9",
          "Professional fees Project managers & QS nan: 11777.83",
          "Professional fees Project managers & QS nan: 11777.83",
          "Professional fees Project managers & QS nan: 11397.9",
          "Professional fees Project managers & QS nan: 11777.83",
          "Professional fees Project managers & QS nan: 11397.9",
          "Professional fees Project managers & QS nan: 11777.83",
          "Professional fees Project managers & QS nan: 11777.83",
          "Professional fees Project managers & QS nan: 10638.04",
          "Professional fees Project managers & QS nan: 11777.83",
          "Professional fees Project managers & QS nan: 11397.9",
          "Professional fees Project managers & QS nan: 11777.83",
          "Professional fees Project managers & QS nan: 11397.9",
          "Professional fees Project managers & QS nan: 11777.83",
          "Professional fees Project managers & QS nan: 11777.83",
          "Professional fees Project managers & QS nan: 11395.780000000063"
         ],
         "type": "scatter",
         "x": [
          "2020-12-31T00:00:00",
          "2021-01-31T00:00:00",
          "2021-02-28T00:00:00",
          "2021-03-31T00:00:00",
          "2021-04-30T00:00:00",
          "2021-05-31T00:00:00",
          "2021-06-30T00:00:00",
          "2021-07-31T00:00:00",
          "2021-08-31T00:00:00",
          "2021-09-30T00:00:00",
          "2021-10-31T00:00:00",
          "2021-11-30T00:00:00",
          "2021-12-31T00:00:00",
          "2022-01-31T00:00:00",
          "2022-02-28T00:00:00",
          "2022-03-31T00:00:00",
          "2022-04-30T00:00:00",
          "2022-05-31T00:00:00",
          "2022-06-30T00:00:00",
          "2022-07-31T00:00:00",
          "2022-08-31T00:00:00",
          "2022-09-30T00:00:00"
         ],
         "y": [
          0,
          0,
          1899.65,
          11777.83,
          11397.9,
          11777.83,
          11397.9,
          11777.83,
          11777.83,
          11397.9,
          11777.83,
          11397.9,
          11777.83,
          11777.83,
          10638.04,
          11777.83,
          11397.9,
          11777.83,
          11397.9,
          11777.83,
          11777.83,
          11395.780000000063
         ]
        },
        {
         "hoverinfo": "text",
         "line": {
          "dash": "dot"
         },
         "mode": "lines+markers",
         "name": "Professional fees M&E Consultant - client side nan",
         "text": [
          "Professional fees M&E Consultant - client side nan: 0.0",
          "Professional fees M&E Consultant - client side nan: 0.0",
          "Professional fees M&E Consultant - client side nan: 756.0",
          "Professional fees M&E Consultant - client side nan: 4687.2",
          "Professional fees M&E Consultant - client side nan: 4536.0",
          "Professional fees M&E Consultant - client side nan: 4687.2",
          "Professional fees M&E Consultant - client side nan: 4536.0",
          "Professional fees M&E Consultant - client side nan: 4687.2",
          "Professional fees M&E Consultant - client side nan: 4687.2",
          "Professional fees M&E Consultant - client side nan: 4536.0",
          "Professional fees M&E Consultant - client side nan: 4687.2",
          "Professional fees M&E Consultant - client side nan: 4536.0",
          "Professional fees M&E Consultant - client side nan: 4687.2",
          "Professional fees M&E Consultant - client side nan: 4687.2",
          "Professional fees M&E Consultant - client side nan: 4233.599999999999",
          "Professional fees M&E Consultant - client side nan: 4687.2",
          "Professional fees M&E Consultant - client side nan: 4536.0",
          "Professional fees M&E Consultant - client side nan: 4687.2",
          "Professional fees M&E Consultant - client side nan: 4536.0",
          "Professional fees M&E Consultant - client side nan: 4687.2",
          "Professional fees M&E Consultant - client side nan: 4687.2",
          "Professional fees M&E Consultant - client side nan: 4535.1999999999825"
         ],
         "type": "scatter",
         "x": [
          "2020-12-31T00:00:00",
          "2021-01-31T00:00:00",
          "2021-02-28T00:00:00",
          "2021-03-31T00:00:00",
          "2021-04-30T00:00:00",
          "2021-05-31T00:00:00",
          "2021-06-30T00:00:00",
          "2021-07-31T00:00:00",
          "2021-08-31T00:00:00",
          "2021-09-30T00:00:00",
          "2021-10-31T00:00:00",
          "2021-11-30T00:00:00",
          "2021-12-31T00:00:00",
          "2022-01-31T00:00:00",
          "2022-02-28T00:00:00",
          "2022-03-31T00:00:00",
          "2022-04-30T00:00:00",
          "2022-05-31T00:00:00",
          "2022-06-30T00:00:00",
          "2022-07-31T00:00:00",
          "2022-08-31T00:00:00",
          "2022-09-30T00:00:00"
         ],
         "y": [
          0,
          0,
          756,
          4687.2,
          4536,
          4687.2,
          4536,
          4687.2,
          4687.2,
          4536,
          4687.2,
          4536,
          4687.2,
          4687.2,
          4233.599999999999,
          4687.2,
          4536,
          4687.2,
          4536,
          4687.2,
          4687.2,
          4535.1999999999825
         ]
        },
        {
         "hoverinfo": "text",
         "line": {
          "dash": "dot"
         },
         "mode": "lines+markers",
         "name": "Professional fees Planning costs - see schedule nan",
         "text": [
          "Professional fees Planning costs - see schedule nan: 425070.0",
          "Professional fees Planning costs - see schedule nan: 0.0",
          "Professional fees Planning costs - see schedule nan: 0.0",
          "Professional fees Planning costs - see schedule nan: 0.0",
          "Professional fees Planning costs - see schedule nan: 0.0",
          "Professional fees Planning costs - see schedule nan: 0.0",
          "Professional fees Planning costs - see schedule nan: 0.0",
          "Professional fees Planning costs - see schedule nan: 0.0",
          "Professional fees Planning costs - see schedule nan: 0.0",
          "Professional fees Planning costs - see schedule nan: 0.0",
          "Professional fees Planning costs - see schedule nan: 0.0",
          "Professional fees Planning costs - see schedule nan: 0.0",
          "Professional fees Planning costs - see schedule nan: 0.0",
          "Professional fees Planning costs - see schedule nan: 0.0",
          "Professional fees Planning costs - see schedule nan: 0.0",
          "Professional fees Planning costs - see schedule nan: 0.0",
          "Professional fees Planning costs - see schedule nan: 0.0",
          "Professional fees Planning costs - see schedule nan: 0.0",
          "Professional fees Planning costs - see schedule nan: 0.0",
          "Professional fees Planning costs - see schedule nan: 0.0",
          "Professional fees Planning costs - see schedule nan: 0.0",
          "Professional fees Planning costs - see schedule nan: 0.0"
         ],
         "type": "scatter",
         "x": [
          "2020-12-31T00:00:00",
          "2021-01-31T00:00:00",
          "2021-02-28T00:00:00",
          "2021-03-31T00:00:00",
          "2021-04-30T00:00:00",
          "2021-05-31T00:00:00",
          "2021-06-30T00:00:00",
          "2021-07-31T00:00:00",
          "2021-08-31T00:00:00",
          "2021-09-30T00:00:00",
          "2021-10-31T00:00:00",
          "2021-11-30T00:00:00",
          "2021-12-31T00:00:00",
          "2022-01-31T00:00:00",
          "2022-02-28T00:00:00",
          "2022-03-31T00:00:00",
          "2022-04-30T00:00:00",
          "2022-05-31T00:00:00",
          "2022-06-30T00:00:00",
          "2022-07-31T00:00:00",
          "2022-08-31T00:00:00",
          "2022-09-30T00:00:00"
         ],
         "y": [
          425070,
          0,
          0,
          0,
          0,
          0,
          0,
          0,
          0,
          0,
          0,
          0,
          0,
          0,
          0,
          0,
          0,
          0,
          0,
          0,
          0,
          0
         ]
        },
        {
         "hoverinfo": "text",
         "line": {
          "dash": "dot"
         },
         "mode": "lines+markers",
         "name": "Professional fees Architect / Planning / Survey Fees nan",
         "text": [
          "Professional fees Architect / Planning / Survey Fees nan: 0.0",
          "Professional fees Architect / Planning / Survey Fees nan: 0.0",
          "Professional fees Architect / Planning / Survey Fees nan: 4213.82",
          "Professional fees Architect / Planning / Survey Fees nan: 5024.17",
          "Professional fees Architect / Planning / Survey Fees nan: 4862.099999999999",
          "Professional fees Architect / Planning / Survey Fees nan: 5024.17",
          "Professional fees Architect / Planning / Survey Fees nan: 4862.099999999999",
          "Professional fees Architect / Planning / Survey Fees nan: 5024.17",
          "Professional fees Architect / Planning / Survey Fees nan: 5024.17",
          "Professional fees Architect / Planning / Survey Fees nan: 4862.099999999999",
          "Professional fees Architect / Planning / Survey Fees nan: 5024.17",
          "Professional fees Architect / Planning / Survey Fees nan: 3889.030000000013",
          "Professional fees Architect / Planning / Survey Fees nan: 0.0",
          "Professional fees Architect / Planning / Survey Fees nan: 0.0",
          "Professional fees Architect / Planning / Survey Fees nan: 0.0",
          "Professional fees Architect / Planning / Survey Fees nan: 0.0",
          "Professional fees Architect / Planning / Survey Fees nan: 0.0",
          "Professional fees Architect / Planning / Survey Fees nan: 0.0",
          "Professional fees Architect / Planning / Survey Fees nan: 0.0",
          "Professional fees Architect / Planning / Survey Fees nan: 0.0",
          "Professional fees Architect / Planning / Survey Fees nan: 0.0",
          "Professional fees Architect / Planning / Survey Fees nan: 0.0"
         ],
         "type": "scatter",
         "x": [
          "2020-12-31T00:00:00",
          "2021-01-31T00:00:00",
          "2021-02-28T00:00:00",
          "2021-03-31T00:00:00",
          "2021-04-30T00:00:00",
          "2021-05-31T00:00:00",
          "2021-06-30T00:00:00",
          "2021-07-31T00:00:00",
          "2021-08-31T00:00:00",
          "2021-09-30T00:00:00",
          "2021-10-31T00:00:00",
          "2021-11-30T00:00:00",
          "2021-12-31T00:00:00",
          "2022-01-31T00:00:00",
          "2022-02-28T00:00:00",
          "2022-03-31T00:00:00",
          "2022-04-30T00:00:00",
          "2022-05-31T00:00:00",
          "2022-06-30T00:00:00",
          "2022-07-31T00:00:00",
          "2022-08-31T00:00:00",
          "2022-09-30T00:00:00"
         ],
         "y": [
          0,
          0,
          4213.82,
          5024.17,
          4862.099999999999,
          5024.17,
          4862.099999999999,
          5024.17,
          5024.17,
          4862.099999999999,
          5024.17,
          3889.030000000013,
          0,
          0,
          0,
          0,
          0,
          0,
          0,
          0,
          0,
          0
         ]
        },
        {
         "hoverinfo": "text",
         "line": {
          "dash": "dot"
         },
         "mode": "lines+markers",
         "name": "Professional fees Bank Fee Contingency nan",
         "text": [
          "Professional fees Bank Fee Contingency nan: 0.0",
          "Professional fees Bank Fee Contingency nan: 0.0",
          "Professional fees Bank Fee Contingency nan: 0.0",
          "Professional fees Bank Fee Contingency nan: 0.0",
          "Professional fees Bank Fee Contingency nan: 0.0",
          "Professional fees Bank Fee Contingency nan: 0.0",
          "Professional fees Bank Fee Contingency nan: 0.0",
          "Professional fees Bank Fee Contingency nan: 41.4",
          "Professional fees Bank Fee Contingency nan: 142.6",
          "Professional fees Bank Fee Contingency nan: 138.0",
          "Professional fees Bank Fee Contingency nan: 142.6",
          "Professional fees Bank Fee Contingency nan: 138.0",
          "Professional fees Bank Fee Contingency nan: 142.6",
          "Professional fees Bank Fee Contingency nan: 142.6",
          "Professional fees Bank Fee Contingency nan: 128.79999999999998",
          "Professional fees Bank Fee Contingency nan: 142.6",
          "Professional fees Bank Fee Contingency nan: 138.0",
          "Professional fees Bank Fee Contingency nan: 142.6",
          "Professional fees Bank Fee Contingency nan: 138.0",
          "Professional fees Bank Fee Contingency nan: 142.6",
          "Professional fees Bank Fee Contingency nan: 142.6",
          "Professional fees Bank Fee Contingency nan: 136.99999999999955"
         ],
         "type": "scatter",
         "x": [
          "2020-12-31T00:00:00",
          "2021-01-31T00:00:00",
          "2021-02-28T00:00:00",
          "2021-03-31T00:00:00",
          "2021-04-30T00:00:00",
          "2021-05-31T00:00:00",
          "2021-06-30T00:00:00",
          "2021-07-31T00:00:00",
          "2021-08-31T00:00:00",
          "2021-09-30T00:00:00",
          "2021-10-31T00:00:00",
          "2021-11-30T00:00:00",
          "2021-12-31T00:00:00",
          "2022-01-31T00:00:00",
          "2022-02-28T00:00:00",
          "2022-03-31T00:00:00",
          "2022-04-30T00:00:00",
          "2022-05-31T00:00:00",
          "2022-06-30T00:00:00",
          "2022-07-31T00:00:00",
          "2022-08-31T00:00:00",
          "2022-09-30T00:00:00"
         ],
         "y": [
          0,
          0,
          0,
          0,
          0,
          0,
          0,
          41.4,
          142.6,
          138,
          142.6,
          138,
          142.6,
          142.6,
          128.79999999999998,
          142.6,
          138,
          142.6,
          138,
          142.6,
          142.6,
          136.99999999999955
         ]
        },
        {
         "hoverinfo": "text",
         "line": {
          "dash": "dot"
         },
         "mode": "lines+markers",
         "name": "Professional fees Material Storage Charges nan",
         "text": [
          "Professional fees Material Storage Charges nan: 0.0",
          "Professional fees Material Storage Charges nan: 0.0",
          "Professional fees Material Storage Charges nan: 0.0",
          "Professional fees Material Storage Charges nan: 0.0",
          "Professional fees Material Storage Charges nan: 0.0",
          "Professional fees Material Storage Charges nan: 0.0",
          "Professional fees Material Storage Charges nan: 0.0",
          "Professional fees Material Storage Charges nan: 0.0",
          "Professional fees Material Storage Charges nan: 0.0",
          "Professional fees Material Storage Charges nan: 258.58",
          "Professional fees Material Storage Charges nan: 572.5699999999999",
          "Professional fees Material Storage Charges nan: 554.0999999999999",
          "Professional fees Material Storage Charges nan: 572.5699999999999",
          "Professional fees Material Storage Charges nan: 572.5699999999999",
          "Professional fees Material Storage Charges nan: 517.16",
          "Professional fees Material Storage Charges nan: 572.5699999999999",
          "Professional fees Material Storage Charges nan: 554.0999999999999",
          "Professional fees Material Storage Charges nan: 572.5699999999999",
          "Professional fees Material Storage Charges nan: 554.0999999999999",
          "Professional fees Material Storage Charges nan: 572.5699999999999",
          "Professional fees Material Storage Charges nan: 572.5699999999999",
          "Professional fees Material Storage Charges nan: 553.9700000000007"
         ],
         "type": "scatter",
         "x": [
          "2020-12-31T00:00:00",
          "2021-01-31T00:00:00",
          "2021-02-28T00:00:00",
          "2021-03-31T00:00:00",
          "2021-04-30T00:00:00",
          "2021-05-31T00:00:00",
          "2021-06-30T00:00:00",
          "2021-07-31T00:00:00",
          "2021-08-31T00:00:00",
          "2021-09-30T00:00:00",
          "2021-10-31T00:00:00",
          "2021-11-30T00:00:00",
          "2021-12-31T00:00:00",
          "2022-01-31T00:00:00",
          "2022-02-28T00:00:00",
          "2022-03-31T00:00:00",
          "2022-04-30T00:00:00",
          "2022-05-31T00:00:00",
          "2022-06-30T00:00:00",
          "2022-07-31T00:00:00",
          "2022-08-31T00:00:00",
          "2022-09-30T00:00:00"
         ],
         "y": [
          0,
          0,
          0,
          0,
          0,
          0,
          0,
          0,
          0,
          258.58,
          572.5699999999999,
          554.0999999999999,
          572.5699999999999,
          572.5699999999999,
          517.16,
          572.5699999999999,
          554.0999999999999,
          572.5699999999999,
          554.0999999999999,
          572.5699999999999,
          572.5699999999999,
          553.9700000000007
         ]
        },
        {
         "hoverinfo": "text",
         "line": {
          "dash": "dot"
         },
         "mode": "lines+markers",
         "name": "Professional fees Legal Fees and Accountancy  nan",
         "text": [
          "Professional fees Legal Fees and Accountancy  nan: 0.0",
          "Professional fees Legal Fees and Accountancy  nan: 0.0",
          "Professional fees Legal Fees and Accountancy  nan: 0.0",
          "Professional fees Legal Fees and Accountancy  nan: 0.0",
          "Professional fees Legal Fees and Accountancy  nan: 0.0",
          "Professional fees Legal Fees and Accountancy  nan: 0.0",
          "Professional fees Legal Fees and Accountancy  nan: 0.0",
          "Professional fees Legal Fees and Accountancy  nan: 0.0",
          "Professional fees Legal Fees and Accountancy  nan: 0.0",
          "Professional fees Legal Fees and Accountancy  nan: 0.0",
          "Professional fees Legal Fees and Accountancy  nan: 0.0",
          "Professional fees Legal Fees and Accountancy  nan: 26676.0",
          "Professional fees Legal Fees and Accountancy  nan: 0.0",
          "Professional fees Legal Fees and Accountancy  nan: 0.0",
          "Professional fees Legal Fees and Accountancy  nan: 0.0",
          "Professional fees Legal Fees and Accountancy  nan: 0.0",
          "Professional fees Legal Fees and Accountancy  nan: 0.0",
          "Professional fees Legal Fees and Accountancy  nan: 0.0",
          "Professional fees Legal Fees and Accountancy  nan: 0.0",
          "Professional fees Legal Fees and Accountancy  nan: 0.0",
          "Professional fees Legal Fees and Accountancy  nan: 0.0",
          "Professional fees Legal Fees and Accountancy  nan: 0.0"
         ],
         "type": "scatter",
         "x": [
          "2020-12-31T00:00:00",
          "2021-01-31T00:00:00",
          "2021-02-28T00:00:00",
          "2021-03-31T00:00:00",
          "2021-04-30T00:00:00",
          "2021-05-31T00:00:00",
          "2021-06-30T00:00:00",
          "2021-07-31T00:00:00",
          "2021-08-31T00:00:00",
          "2021-09-30T00:00:00",
          "2021-10-31T00:00:00",
          "2021-11-30T00:00:00",
          "2021-12-31T00:00:00",
          "2022-01-31T00:00:00",
          "2022-02-28T00:00:00",
          "2022-03-31T00:00:00",
          "2022-04-30T00:00:00",
          "2022-05-31T00:00:00",
          "2022-06-30T00:00:00",
          "2022-07-31T00:00:00",
          "2022-08-31T00:00:00",
          "2022-09-30T00:00:00"
         ],
         "y": [
          0,
          0,
          0,
          0,
          0,
          0,
          0,
          0,
          0,
          0,
          0,
          26676,
          0,
          0,
          0,
          0,
          0,
          0,
          0,
          0,
          0,
          0
         ]
        },
        {
         "hoverinfo": "text",
         "line": {
          "dash": "dot"
         },
         "mode": "lines+markers",
         "name": "Professional fees Unallocated fee contingency nan",
         "text": [
          "Professional fees Unallocated fee contingency nan: 0.0",
          "Professional fees Unallocated fee contingency nan: 0.0",
          "Professional fees Unallocated fee contingency nan: 0.0",
          "Professional fees Unallocated fee contingency nan: 0.0",
          "Professional fees Unallocated fee contingency nan: 0.0",
          "Professional fees Unallocated fee contingency nan: 0.0",
          "Professional fees Unallocated fee contingency nan: 0.0",
          "Professional fees Unallocated fee contingency nan: 0.0",
          "Professional fees Unallocated fee contingency nan: 0.0",
          "Professional fees Unallocated fee contingency nan: 0.0",
          "Professional fees Unallocated fee contingency nan: 0.0",
          "Professional fees Unallocated fee contingency nan: 0.0",
          "Professional fees Unallocated fee contingency nan: 0.0",
          "Professional fees Unallocated fee contingency nan: 31303.0",
          "Professional fees Unallocated fee contingency nan: 0.0",
          "Professional fees Unallocated fee contingency nan: 0.0",
          "Professional fees Unallocated fee contingency nan: 0.0",
          "Professional fees Unallocated fee contingency nan: 0.0",
          "Professional fees Unallocated fee contingency nan: 0.0",
          "Professional fees Unallocated fee contingency nan: 0.0",
          "Professional fees Unallocated fee contingency nan: 0.0",
          "Professional fees Unallocated fee contingency nan: 0.0"
         ],
         "type": "scatter",
         "x": [
          "2020-12-31T00:00:00",
          "2021-01-31T00:00:00",
          "2021-02-28T00:00:00",
          "2021-03-31T00:00:00",
          "2021-04-30T00:00:00",
          "2021-05-31T00:00:00",
          "2021-06-30T00:00:00",
          "2021-07-31T00:00:00",
          "2021-08-31T00:00:00",
          "2021-09-30T00:00:00",
          "2021-10-31T00:00:00",
          "2021-11-30T00:00:00",
          "2021-12-31T00:00:00",
          "2022-01-31T00:00:00",
          "2022-02-28T00:00:00",
          "2022-03-31T00:00:00",
          "2022-04-30T00:00:00",
          "2022-05-31T00:00:00",
          "2022-06-30T00:00:00",
          "2022-07-31T00:00:00",
          "2022-08-31T00:00:00",
          "2022-09-30T00:00:00"
         ],
         "y": [
          0,
          0,
          0,
          0,
          0,
          0,
          0,
          0,
          0,
          0,
          0,
          0,
          0,
          31303,
          0,
          0,
          0,
          0,
          0,
          0,
          0,
          0
         ]
        },
        {
         "hoverinfo": "text",
         "line": {
          "dash": "dot"
         },
         "mode": "lines+markers",
         "name": "Statutory costs S106 / 278 (over build cost inclusion) nan",
         "text": [
          "Statutory costs S106 / 278 (over build cost inclusion) nan: 0.0",
          "Statutory costs S106 / 278 (over build cost inclusion) nan: 0.0",
          "Statutory costs S106 / 278 (over build cost inclusion) nan: 16760.38",
          "Statutory costs S106 / 278 (over build cost inclusion) nan: 19983.53",
          "Statutory costs S106 / 278 (over build cost inclusion) nan: 19338.9",
          "Statutory costs S106 / 278 (over build cost inclusion) nan: 19983.53",
          "Statutory costs S106 / 278 (over build cost inclusion) nan: 19338.9",
          "Statutory costs S106 / 278 (over build cost inclusion) nan: 19983.53",
          "Statutory costs S106 / 278 (over build cost inclusion) nan: 19983.53",
          "Statutory costs S106 / 278 (over build cost inclusion) nan: 19338.9",
          "Statutory costs S106 / 278 (over build cost inclusion) nan: 19983.53",
          "Statutory costs S106 / 278 (over build cost inclusion) nan: 19338.9",
          "Statutory costs S106 / 278 (over build cost inclusion) nan: 19983.53",
          "Statutory costs S106 / 278 (over build cost inclusion) nan: 19983.53",
          "Statutory costs S106 / 278 (over build cost inclusion) nan: 18049.64",
          "Statutory costs S106 / 278 (over build cost inclusion) nan: 19983.53",
          "Statutory costs S106 / 278 (over build cost inclusion) nan: 19338.9",
          "Statutory costs S106 / 278 (over build cost inclusion) nan: 19983.53",
          "Statutory costs S106 / 278 (over build cost inclusion) nan: 19338.9",
          "Statutory costs S106 / 278 (over build cost inclusion) nan: 19983.53",
          "Statutory costs S106 / 278 (over build cost inclusion) nan: 19983.53",
          "Statutory costs S106 / 278 (over build cost inclusion) nan: 19337.749999999978"
         ],
         "type": "scatter",
         "x": [
          "2020-12-31T00:00:00",
          "2021-01-31T00:00:00",
          "2021-02-28T00:00:00",
          "2021-03-31T00:00:00",
          "2021-04-30T00:00:00",
          "2021-05-31T00:00:00",
          "2021-06-30T00:00:00",
          "2021-07-31T00:00:00",
          "2021-08-31T00:00:00",
          "2021-09-30T00:00:00",
          "2021-10-31T00:00:00",
          "2021-11-30T00:00:00",
          "2021-12-31T00:00:00",
          "2022-01-31T00:00:00",
          "2022-02-28T00:00:00",
          "2022-03-31T00:00:00",
          "2022-04-30T00:00:00",
          "2022-05-31T00:00:00",
          "2022-06-30T00:00:00",
          "2022-07-31T00:00:00",
          "2022-08-31T00:00:00",
          "2022-09-30T00:00:00"
         ],
         "y": [
          0,
          0,
          16760.38,
          19983.53,
          19338.9,
          19983.53,
          19338.9,
          19983.53,
          19983.53,
          19338.9,
          19983.53,
          19338.9,
          19983.53,
          19983.53,
          18049.64,
          19983.53,
          19338.9,
          19983.53,
          19338.9,
          19983.53,
          19983.53,
          19337.749999999978
         ]
        },
        {
         "hoverinfo": "text",
         "line": {
          "dash": "dot"
         },
         "mode": "lines+markers",
         "name": "Marketing 1st year mobilisation & marketing nan",
         "text": [
          "Marketing 1st year mobilisation & marketing nan: 0.0",
          "Marketing 1st year mobilisation & marketing nan: 0.0",
          "Marketing 1st year mobilisation & marketing nan: 0.0",
          "Marketing 1st year mobilisation & marketing nan: 0.0",
          "Marketing 1st year mobilisation & marketing nan: 0.0",
          "Marketing 1st year mobilisation & marketing nan: 6012.0",
          "Marketing 1st year mobilisation & marketing nan: 15030.0",
          "Marketing 1st year mobilisation & marketing nan: 15531.0",
          "Marketing 1st year mobilisation & marketing nan: 15531.0",
          "Marketing 1st year mobilisation & marketing nan: 15030.0",
          "Marketing 1st year mobilisation & marketing nan: 15531.0",
          "Marketing 1st year mobilisation & marketing nan: 15030.0",
          "Marketing 1st year mobilisation & marketing nan: 15531.0",
          "Marketing 1st year mobilisation & marketing nan: 15531.0",
          "Marketing 1st year mobilisation & marketing nan: 14028.0",
          "Marketing 1st year mobilisation & marketing nan: 15531.0",
          "Marketing 1st year mobilisation & marketing nan: 15030.0",
          "Marketing 1st year mobilisation & marketing nan: 15531.0",
          "Marketing 1st year mobilisation & marketing nan: 15030.0",
          "Marketing 1st year mobilisation & marketing nan: 15531.0",
          "Marketing 1st year mobilisation & marketing nan: 15531.0",
          "Marketing 1st year mobilisation & marketing nan: 15031.0"
         ],
         "type": "scatter",
         "x": [
          "2020-12-31T00:00:00",
          "2021-01-31T00:00:00",
          "2021-02-28T00:00:00",
          "2021-03-31T00:00:00",
          "2021-04-30T00:00:00",
          "2021-05-31T00:00:00",
          "2021-06-30T00:00:00",
          "2021-07-31T00:00:00",
          "2021-08-31T00:00:00",
          "2021-09-30T00:00:00",
          "2021-10-31T00:00:00",
          "2021-11-30T00:00:00",
          "2021-12-31T00:00:00",
          "2022-01-31T00:00:00",
          "2022-02-28T00:00:00",
          "2022-03-31T00:00:00",
          "2022-04-30T00:00:00",
          "2022-05-31T00:00:00",
          "2022-06-30T00:00:00",
          "2022-07-31T00:00:00",
          "2022-08-31T00:00:00",
          "2022-09-30T00:00:00"
         ],
         "y": [
          0,
          0,
          0,
          0,
          0,
          6012,
          15030,
          15531,
          15531,
          15030,
          15531,
          15030,
          15531,
          15531,
          14028,
          15531,
          15030,
          15531,
          15030,
          15531,
          15531,
          15031
         ]
        },
        {
         "hoverinfo": "text",
         "line": {
          "dash": "dot"
         },
         "mode": "lines+markers",
         "name": "Other costs Insurances - Developer Risk nan",
         "text": [
          "Other costs Insurances - Developer Risk nan: 72374.0",
          "Other costs Insurances - Developer Risk nan: 0.0",
          "Other costs Insurances - Developer Risk nan: 0.0",
          "Other costs Insurances - Developer Risk nan: 0.0",
          "Other costs Insurances - Developer Risk nan: 0.0",
          "Other costs Insurances - Developer Risk nan: 0.0",
          "Other costs Insurances - Developer Risk nan: 0.0",
          "Other costs Insurances - Developer Risk nan: 0.0",
          "Other costs Insurances - Developer Risk nan: 0.0",
          "Other costs Insurances - Developer Risk nan: 0.0",
          "Other costs Insurances - Developer Risk nan: 0.0",
          "Other costs Insurances - Developer Risk nan: 0.0",
          "Other costs Insurances - Developer Risk nan: 0.0",
          "Other costs Insurances - Developer Risk nan: 0.0",
          "Other costs Insurances - Developer Risk nan: 0.0",
          "Other costs Insurances - Developer Risk nan: 0.0",
          "Other costs Insurances - Developer Risk nan: 0.0",
          "Other costs Insurances - Developer Risk nan: 0.0",
          "Other costs Insurances - Developer Risk nan: 0.0",
          "Other costs Insurances - Developer Risk nan: 0.0",
          "Other costs Insurances - Developer Risk nan: 0.0",
          "Other costs Insurances - Developer Risk nan: 0.0"
         ],
         "type": "scatter",
         "x": [
          "2020-12-31T00:00:00",
          "2021-01-31T00:00:00",
          "2021-02-28T00:00:00",
          "2021-03-31T00:00:00",
          "2021-04-30T00:00:00",
          "2021-05-31T00:00:00",
          "2021-06-30T00:00:00",
          "2021-07-31T00:00:00",
          "2021-08-31T00:00:00",
          "2021-09-30T00:00:00",
          "2021-10-31T00:00:00",
          "2021-11-30T00:00:00",
          "2021-12-31T00:00:00",
          "2022-01-31T00:00:00",
          "2022-02-28T00:00:00",
          "2022-03-31T00:00:00",
          "2022-04-30T00:00:00",
          "2022-05-31T00:00:00",
          "2022-06-30T00:00:00",
          "2022-07-31T00:00:00",
          "2022-08-31T00:00:00",
          "2022-09-30T00:00:00"
         ],
         "y": [
          72374,
          0,
          0,
          0,
          0,
          0,
          0,
          0,
          0,
          0,
          0,
          0,
          0,
          0,
          0,
          0,
          0,
          0,
          0,
          0,
          0,
          0
         ]
        },
        {
         "hoverinfo": "text",
         "line": {
          "dash": "dot"
         },
         "mode": "lines+markers",
         "name": "Other costs Knight Frank (debt broker) Knight Frank",
         "text": [
          "Other costs Knight Frank (debt broker) Knight Frank: 300000.0",
          "Other costs Knight Frank (debt broker) Knight Frank: 0.0",
          "Other costs Knight Frank (debt broker) Knight Frank: 0.0",
          "Other costs Knight Frank (debt broker) Knight Frank: 0.0",
          "Other costs Knight Frank (debt broker) Knight Frank: 0.0",
          "Other costs Knight Frank (debt broker) Knight Frank: 0.0",
          "Other costs Knight Frank (debt broker) Knight Frank: 0.0",
          "Other costs Knight Frank (debt broker) Knight Frank: 0.0",
          "Other costs Knight Frank (debt broker) Knight Frank: 0.0",
          "Other costs Knight Frank (debt broker) Knight Frank: 0.0",
          "Other costs Knight Frank (debt broker) Knight Frank: 0.0",
          "Other costs Knight Frank (debt broker) Knight Frank: 0.0",
          "Other costs Knight Frank (debt broker) Knight Frank: 0.0",
          "Other costs Knight Frank (debt broker) Knight Frank: 0.0",
          "Other costs Knight Frank (debt broker) Knight Frank: 0.0",
          "Other costs Knight Frank (debt broker) Knight Frank: 0.0",
          "Other costs Knight Frank (debt broker) Knight Frank: 0.0",
          "Other costs Knight Frank (debt broker) Knight Frank: 0.0",
          "Other costs Knight Frank (debt broker) Knight Frank: 0.0",
          "Other costs Knight Frank (debt broker) Knight Frank: 0.0",
          "Other costs Knight Frank (debt broker) Knight Frank: 0.0",
          "Other costs Knight Frank (debt broker) Knight Frank: 0.0"
         ],
         "type": "scatter",
         "x": [
          "2020-12-31T00:00:00",
          "2021-01-31T00:00:00",
          "2021-02-28T00:00:00",
          "2021-03-31T00:00:00",
          "2021-04-30T00:00:00",
          "2021-05-31T00:00:00",
          "2021-06-30T00:00:00",
          "2021-07-31T00:00:00",
          "2021-08-31T00:00:00",
          "2021-09-30T00:00:00",
          "2021-10-31T00:00:00",
          "2021-11-30T00:00:00",
          "2021-12-31T00:00:00",
          "2022-01-31T00:00:00",
          "2022-02-28T00:00:00",
          "2022-03-31T00:00:00",
          "2022-04-30T00:00:00",
          "2022-05-31T00:00:00",
          "2022-06-30T00:00:00",
          "2022-07-31T00:00:00",
          "2022-08-31T00:00:00",
          "2022-09-30T00:00:00"
         ],
         "y": [
          300000,
          0,
          0,
          0,
          0,
          0,
          0,
          0,
          0,
          0,
          0,
          0,
          0,
          0,
          0,
          0,
          0,
          0,
          0,
          0,
          0,
          0
         ]
        },
        {
         "hoverinfo": "text",
         "line": {
          "dash": "dot"
         },
         "mode": "lines+markers",
         "name": "Project contingency Irrecoverable VAT (contingency) nan",
         "text": [
          "Project contingency Irrecoverable VAT (contingency) nan: 0.0",
          "Project contingency Irrecoverable VAT (contingency) nan: 0.0",
          "Project contingency Irrecoverable VAT (contingency) nan: 0.0",
          "Project contingency Irrecoverable VAT (contingency) nan: 0.0",
          "Project contingency Irrecoverable VAT (contingency) nan: 0.0",
          "Project contingency Irrecoverable VAT (contingency) nan: 0.0",
          "Project contingency Irrecoverable VAT (contingency) nan: 0.0",
          "Project contingency Irrecoverable VAT (contingency) nan: 0.0",
          "Project contingency Irrecoverable VAT (contingency) nan: 0.0",
          "Project contingency Irrecoverable VAT (contingency) nan: 0.0",
          "Project contingency Irrecoverable VAT (contingency) nan: 0.0",
          "Project contingency Irrecoverable VAT (contingency) nan: 0.0",
          "Project contingency Irrecoverable VAT (contingency) nan: 0.0",
          "Project contingency Irrecoverable VAT (contingency) nan: 0.0",
          "Project contingency Irrecoverable VAT (contingency) nan: 0.0",
          "Project contingency Irrecoverable VAT (contingency) nan: 0.0",
          "Project contingency Irrecoverable VAT (contingency) nan: 0.0",
          "Project contingency Irrecoverable VAT (contingency) nan: 0.0",
          "Project contingency Irrecoverable VAT (contingency) nan: 0.0",
          "Project contingency Irrecoverable VAT (contingency) nan: 0.0",
          "Project contingency Irrecoverable VAT (contingency) nan: 0.0",
          "Project contingency Irrecoverable VAT (contingency) nan: 100000.0"
         ],
         "type": "scatter",
         "x": [
          "2020-12-31T00:00:00",
          "2021-01-31T00:00:00",
          "2021-02-28T00:00:00",
          "2021-03-31T00:00:00",
          "2021-04-30T00:00:00",
          "2021-05-31T00:00:00",
          "2021-06-30T00:00:00",
          "2021-07-31T00:00:00",
          "2021-08-31T00:00:00",
          "2021-09-30T00:00:00",
          "2021-10-31T00:00:00",
          "2021-11-30T00:00:00",
          "2021-12-31T00:00:00",
          "2022-01-31T00:00:00",
          "2022-02-28T00:00:00",
          "2022-03-31T00:00:00",
          "2022-04-30T00:00:00",
          "2022-05-31T00:00:00",
          "2022-06-30T00:00:00",
          "2022-07-31T00:00:00",
          "2022-08-31T00:00:00",
          "2022-09-30T00:00:00"
         ],
         "y": [
          0,
          0,
          0,
          0,
          0,
          0,
          0,
          0,
          0,
          0,
          0,
          0,
          0,
          0,
          0,
          0,
          0,
          0,
          0,
          0,
          0,
          100000
         ]
        },
        {
         "hoverinfo": "text",
         "line": {
          "dash": "dot"
         },
         "mode": "lines+markers",
         "name": "Project contingency Risk Allowance (contingency) nan",
         "text": [
          "Project contingency Risk Allowance (contingency) nan: 0.0",
          "Project contingency Risk Allowance (contingency) nan: 0.0",
          "Project contingency Risk Allowance (contingency) nan: 0.0",
          "Project contingency Risk Allowance (contingency) nan: 0.0",
          "Project contingency Risk Allowance (contingency) nan: 0.0",
          "Project contingency Risk Allowance (contingency) nan: 0.0",
          "Project contingency Risk Allowance (contingency) nan: 0.0",
          "Project contingency Risk Allowance (contingency) nan: 0.0",
          "Project contingency Risk Allowance (contingency) nan: 0.0",
          "Project contingency Risk Allowance (contingency) nan: 0.0",
          "Project contingency Risk Allowance (contingency) nan: 0.0",
          "Project contingency Risk Allowance (contingency) nan: 0.0",
          "Project contingency Risk Allowance (contingency) nan: 34758.3",
          "Project contingency Risk Allowance (contingency) nan: 107750.73",
          "Project contingency Risk Allowance (contingency) nan: 97323.23999999999",
          "Project contingency Risk Allowance (contingency) nan: 107750.73",
          "Project contingency Risk Allowance (contingency) nan: 104274.9",
          "Project contingency Risk Allowance (contingency) nan: 107750.73",
          "Project contingency Risk Allowance (contingency) nan: 104274.9",
          "Project contingency Risk Allowance (contingency) nan: 107750.73",
          "Project contingency Risk Allowance (contingency) nan: 107750.73",
          "Project contingency Risk Allowance (contingency) nan: 104275.00999999975"
         ],
         "type": "scatter",
         "x": [
          "2020-12-31T00:00:00",
          "2021-01-31T00:00:00",
          "2021-02-28T00:00:00",
          "2021-03-31T00:00:00",
          "2021-04-30T00:00:00",
          "2021-05-31T00:00:00",
          "2021-06-30T00:00:00",
          "2021-07-31T00:00:00",
          "2021-08-31T00:00:00",
          "2021-09-30T00:00:00",
          "2021-10-31T00:00:00",
          "2021-11-30T00:00:00",
          "2021-12-31T00:00:00",
          "2022-01-31T00:00:00",
          "2022-02-28T00:00:00",
          "2022-03-31T00:00:00",
          "2022-04-30T00:00:00",
          "2022-05-31T00:00:00",
          "2022-06-30T00:00:00",
          "2022-07-31T00:00:00",
          "2022-08-31T00:00:00",
          "2022-09-30T00:00:00"
         ],
         "y": [
          0,
          0,
          0,
          0,
          0,
          0,
          0,
          0,
          0,
          0,
          0,
          0,
          34758.3,
          107750.73,
          97323.23999999999,
          107750.73,
          104274.9,
          107750.73,
          104274.9,
          107750.73,
          107750.73,
          104275.00999999975
         ]
        }
       ],
       "layout": {
        "autosize": true,
        "height": 600,
        "legend": {
         "orientation": "v",
         "x": 1.05,
         "xanchor": "left",
         "y": 0.5,
         "yanchor": "middle"
        },
        "margin": {
         "b": 40,
         "l": 10,
         "r": 10,
         "t": 40
        },
        "template": {
         "data": {
          "bar": [
           {
            "error_x": {
             "color": "#2a3f5f"
            },
            "error_y": {
             "color": "#2a3f5f"
            },
            "marker": {
             "line": {
              "color": "#E5ECF6",
              "width": 0.5
             },
             "pattern": {
              "fillmode": "overlay",
              "size": 10,
              "solidity": 0.2
             }
            },
            "type": "bar"
           }
          ],
          "barpolar": [
           {
            "marker": {
             "line": {
              "color": "#E5ECF6",
              "width": 0.5
             },
             "pattern": {
              "fillmode": "overlay",
              "size": 10,
              "solidity": 0.2
             }
            },
            "type": "barpolar"
           }
          ],
          "carpet": [
           {
            "aaxis": {
             "endlinecolor": "#2a3f5f",
             "gridcolor": "white",
             "linecolor": "white",
             "minorgridcolor": "white",
             "startlinecolor": "#2a3f5f"
            },
            "baxis": {
             "endlinecolor": "#2a3f5f",
             "gridcolor": "white",
             "linecolor": "white",
             "minorgridcolor": "white",
             "startlinecolor": "#2a3f5f"
            },
            "type": "carpet"
           }
          ],
          "choropleth": [
           {
            "colorbar": {
             "outlinewidth": 0,
             "ticks": ""
            },
            "type": "choropleth"
           }
          ],
          "contour": [
           {
            "colorbar": {
             "outlinewidth": 0,
             "ticks": ""
            },
            "colorscale": [
             [
              0,
              "#0d0887"
             ],
             [
              0.1111111111111111,
              "#46039f"
             ],
             [
              0.2222222222222222,
              "#7201a8"
             ],
             [
              0.3333333333333333,
              "#9c179e"
             ],
             [
              0.4444444444444444,
              "#bd3786"
             ],
             [
              0.5555555555555556,
              "#d8576b"
             ],
             [
              0.6666666666666666,
              "#ed7953"
             ],
             [
              0.7777777777777778,
              "#fb9f3a"
             ],
             [
              0.8888888888888888,
              "#fdca26"
             ],
             [
              1,
              "#f0f921"
             ]
            ],
            "type": "contour"
           }
          ],
          "contourcarpet": [
           {
            "colorbar": {
             "outlinewidth": 0,
             "ticks": ""
            },
            "type": "contourcarpet"
           }
          ],
          "heatmap": [
           {
            "colorbar": {
             "outlinewidth": 0,
             "ticks": ""
            },
            "colorscale": [
             [
              0,
              "#0d0887"
             ],
             [
              0.1111111111111111,
              "#46039f"
             ],
             [
              0.2222222222222222,
              "#7201a8"
             ],
             [
              0.3333333333333333,
              "#9c179e"
             ],
             [
              0.4444444444444444,
              "#bd3786"
             ],
             [
              0.5555555555555556,
              "#d8576b"
             ],
             [
              0.6666666666666666,
              "#ed7953"
             ],
             [
              0.7777777777777778,
              "#fb9f3a"
             ],
             [
              0.8888888888888888,
              "#fdca26"
             ],
             [
              1,
              "#f0f921"
             ]
            ],
            "type": "heatmap"
           }
          ],
          "heatmapgl": [
           {
            "colorbar": {
             "outlinewidth": 0,
             "ticks": ""
            },
            "colorscale": [
             [
              0,
              "#0d0887"
             ],
             [
              0.1111111111111111,
              "#46039f"
             ],
             [
              0.2222222222222222,
              "#7201a8"
             ],
             [
              0.3333333333333333,
              "#9c179e"
             ],
             [
              0.4444444444444444,
              "#bd3786"
             ],
             [
              0.5555555555555556,
              "#d8576b"
             ],
             [
              0.6666666666666666,
              "#ed7953"
             ],
             [
              0.7777777777777778,
              "#fb9f3a"
             ],
             [
              0.8888888888888888,
              "#fdca26"
             ],
             [
              1,
              "#f0f921"
             ]
            ],
            "type": "heatmapgl"
           }
          ],
          "histogram": [
           {
            "marker": {
             "pattern": {
              "fillmode": "overlay",
              "size": 10,
              "solidity": 0.2
             }
            },
            "type": "histogram"
           }
          ],
          "histogram2d": [
           {
            "colorbar": {
             "outlinewidth": 0,
             "ticks": ""
            },
            "colorscale": [
             [
              0,
              "#0d0887"
             ],
             [
              0.1111111111111111,
              "#46039f"
             ],
             [
              0.2222222222222222,
              "#7201a8"
             ],
             [
              0.3333333333333333,
              "#9c179e"
             ],
             [
              0.4444444444444444,
              "#bd3786"
             ],
             [
              0.5555555555555556,
              "#d8576b"
             ],
             [
              0.6666666666666666,
              "#ed7953"
             ],
             [
              0.7777777777777778,
              "#fb9f3a"
             ],
             [
              0.8888888888888888,
              "#fdca26"
             ],
             [
              1,
              "#f0f921"
             ]
            ],
            "type": "histogram2d"
           }
          ],
          "histogram2dcontour": [
           {
            "colorbar": {
             "outlinewidth": 0,
             "ticks": ""
            },
            "colorscale": [
             [
              0,
              "#0d0887"
             ],
             [
              0.1111111111111111,
              "#46039f"
             ],
             [
              0.2222222222222222,
              "#7201a8"
             ],
             [
              0.3333333333333333,
              "#9c179e"
             ],
             [
              0.4444444444444444,
              "#bd3786"
             ],
             [
              0.5555555555555556,
              "#d8576b"
             ],
             [
              0.6666666666666666,
              "#ed7953"
             ],
             [
              0.7777777777777778,
              "#fb9f3a"
             ],
             [
              0.8888888888888888,
              "#fdca26"
             ],
             [
              1,
              "#f0f921"
             ]
            ],
            "type": "histogram2dcontour"
           }
          ],
          "mesh3d": [
           {
            "colorbar": {
             "outlinewidth": 0,
             "ticks": ""
            },
            "type": "mesh3d"
           }
          ],
          "parcoords": [
           {
            "line": {
             "colorbar": {
              "outlinewidth": 0,
              "ticks": ""
             }
            },
            "type": "parcoords"
           }
          ],
          "pie": [
           {
            "automargin": true,
            "type": "pie"
           }
          ],
          "scatter": [
           {
            "fillpattern": {
             "fillmode": "overlay",
             "size": 10,
             "solidity": 0.2
            },
            "type": "scatter"
           }
          ],
          "scatter3d": [
           {
            "line": {
             "colorbar": {
              "outlinewidth": 0,
              "ticks": ""
             }
            },
            "marker": {
             "colorbar": {
              "outlinewidth": 0,
              "ticks": ""
             }
            },
            "type": "scatter3d"
           }
          ],
          "scattercarpet": [
           {
            "marker": {
             "colorbar": {
              "outlinewidth": 0,
              "ticks": ""
             }
            },
            "type": "scattercarpet"
           }
          ],
          "scattergeo": [
           {
            "marker": {
             "colorbar": {
              "outlinewidth": 0,
              "ticks": ""
             }
            },
            "type": "scattergeo"
           }
          ],
          "scattergl": [
           {
            "marker": {
             "colorbar": {
              "outlinewidth": 0,
              "ticks": ""
             }
            },
            "type": "scattergl"
           }
          ],
          "scattermapbox": [
           {
            "marker": {
             "colorbar": {
              "outlinewidth": 0,
              "ticks": ""
             }
            },
            "type": "scattermapbox"
           }
          ],
          "scatterpolar": [
           {
            "marker": {
             "colorbar": {
              "outlinewidth": 0,
              "ticks": ""
             }
            },
            "type": "scatterpolar"
           }
          ],
          "scatterpolargl": [
           {
            "marker": {
             "colorbar": {
              "outlinewidth": 0,
              "ticks": ""
             }
            },
            "type": "scatterpolargl"
           }
          ],
          "scatterternary": [
           {
            "marker": {
             "colorbar": {
              "outlinewidth": 0,
              "ticks": ""
             }
            },
            "type": "scatterternary"
           }
          ],
          "surface": [
           {
            "colorbar": {
             "outlinewidth": 0,
             "ticks": ""
            },
            "colorscale": [
             [
              0,
              "#0d0887"
             ],
             [
              0.1111111111111111,
              "#46039f"
             ],
             [
              0.2222222222222222,
              "#7201a8"
             ],
             [
              0.3333333333333333,
              "#9c179e"
             ],
             [
              0.4444444444444444,
              "#bd3786"
             ],
             [
              0.5555555555555556,
              "#d8576b"
             ],
             [
              0.6666666666666666,
              "#ed7953"
             ],
             [
              0.7777777777777778,
              "#fb9f3a"
             ],
             [
              0.8888888888888888,
              "#fdca26"
             ],
             [
              1,
              "#f0f921"
             ]
            ],
            "type": "surface"
           }
          ],
          "table": [
           {
            "cells": {
             "fill": {
              "color": "#EBF0F8"
             },
             "line": {
              "color": "white"
             }
            },
            "header": {
             "fill": {
              "color": "#C8D4E3"
             },
             "line": {
              "color": "white"
             }
            },
            "type": "table"
           }
          ]
         },
         "layout": {
          "annotationdefaults": {
           "arrowcolor": "#2a3f5f",
           "arrowhead": 0,
           "arrowwidth": 1
          },
          "autotypenumbers": "strict",
          "coloraxis": {
           "colorbar": {
            "outlinewidth": 0,
            "ticks": ""
           }
          },
          "colorscale": {
           "diverging": [
            [
             0,
             "#8e0152"
            ],
            [
             0.1,
             "#c51b7d"
            ],
            [
             0.2,
             "#de77ae"
            ],
            [
             0.3,
             "#f1b6da"
            ],
            [
             0.4,
             "#fde0ef"
            ],
            [
             0.5,
             "#f7f7f7"
            ],
            [
             0.6,
             "#e6f5d0"
            ],
            [
             0.7,
             "#b8e186"
            ],
            [
             0.8,
             "#7fbc41"
            ],
            [
             0.9,
             "#4d9221"
            ],
            [
             1,
             "#276419"
            ]
           ],
           "sequential": [
            [
             0,
             "#0d0887"
            ],
            [
             0.1111111111111111,
             "#46039f"
            ],
            [
             0.2222222222222222,
             "#7201a8"
            ],
            [
             0.3333333333333333,
             "#9c179e"
            ],
            [
             0.4444444444444444,
             "#bd3786"
            ],
            [
             0.5555555555555556,
             "#d8576b"
            ],
            [
             0.6666666666666666,
             "#ed7953"
            ],
            [
             0.7777777777777778,
             "#fb9f3a"
            ],
            [
             0.8888888888888888,
             "#fdca26"
            ],
            [
             1,
             "#f0f921"
            ]
           ],
           "sequentialminus": [
            [
             0,
             "#0d0887"
            ],
            [
             0.1111111111111111,
             "#46039f"
            ],
            [
             0.2222222222222222,
             "#7201a8"
            ],
            [
             0.3333333333333333,
             "#9c179e"
            ],
            [
             0.4444444444444444,
             "#bd3786"
            ],
            [
             0.5555555555555556,
             "#d8576b"
            ],
            [
             0.6666666666666666,
             "#ed7953"
            ],
            [
             0.7777777777777778,
             "#fb9f3a"
            ],
            [
             0.8888888888888888,
             "#fdca26"
            ],
            [
             1,
             "#f0f921"
            ]
           ]
          },
          "colorway": [
           "#636efa",
           "#EF553B",
           "#00cc96",
           "#ab63fa",
           "#FFA15A",
           "#19d3f3",
           "#FF6692",
           "#B6E880",
           "#FF97FF",
           "#FECB52"
          ],
          "font": {
           "color": "#2a3f5f"
          },
          "geo": {
           "bgcolor": "white",
           "lakecolor": "white",
           "landcolor": "#E5ECF6",
           "showlakes": true,
           "showland": true,
           "subunitcolor": "white"
          },
          "hoverlabel": {
           "align": "left"
          },
          "hovermode": "closest",
          "mapbox": {
           "style": "light"
          },
          "paper_bgcolor": "white",
          "plot_bgcolor": "#E5ECF6",
          "polar": {
           "angularaxis": {
            "gridcolor": "white",
            "linecolor": "white",
            "ticks": ""
           },
           "bgcolor": "#E5ECF6",
           "radialaxis": {
            "gridcolor": "white",
            "linecolor": "white",
            "ticks": ""
           }
          },
          "scene": {
           "xaxis": {
            "backgroundcolor": "#E5ECF6",
            "gridcolor": "white",
            "gridwidth": 2,
            "linecolor": "white",
            "showbackground": true,
            "ticks": "",
            "zerolinecolor": "white"
           },
           "yaxis": {
            "backgroundcolor": "#E5ECF6",
            "gridcolor": "white",
            "gridwidth": 2,
            "linecolor": "white",
            "showbackground": true,
            "ticks": "",
            "zerolinecolor": "white"
           },
           "zaxis": {
            "backgroundcolor": "#E5ECF6",
            "gridcolor": "white",
            "gridwidth": 2,
            "linecolor": "white",
            "showbackground": true,
            "ticks": "",
            "zerolinecolor": "white"
           }
          },
          "shapedefaults": {
           "line": {
            "color": "#2a3f5f"
           }
          },
          "ternary": {
           "aaxis": {
            "gridcolor": "white",
            "linecolor": "white",
            "ticks": ""
           },
           "baxis": {
            "gridcolor": "white",
            "linecolor": "white",
            "ticks": ""
           },
           "bgcolor": "#E5ECF6",
           "caxis": {
            "gridcolor": "white",
            "linecolor": "white",
            "ticks": ""
           }
          },
          "title": {
           "x": 0.05
          },
          "xaxis": {
           "automargin": true,
           "gridcolor": "white",
           "linecolor": "white",
           "ticks": "",
           "title": {
            "standoff": 15
           },
           "zerolinecolor": "white",
           "zerolinewidth": 2
          },
          "yaxis": {
           "automargin": true,
           "gridcolor": "white",
           "linecolor": "white",
           "ticks": "",
           "title": {
            "standoff": 15
           },
           "zerolinecolor": "white",
           "zerolinewidth": 2
          }
         }
        },
        "title": {
         "text": "Total Costs by Category and Period"
        },
        "width": 1200,
        "xaxis": {
         "title": {
          "text": "Period"
         }
        },
        "yaxis": {
         "title": {
          "text": "Total Amount"
         }
        }
       }
      }
     },
     "metadata": {},
     "output_type": "display_data"
    }
   ],
   "source": [
    "visualiser.plot_cost_summary(cashflow_instance)"
   ]
  },
  {
   "cell_type": "code",
   "execution_count": 17,
   "metadata": {},
   "outputs": [
    {
     "data": {
      "application/vnd.plotly.v1+json": {
       "config": {
        "plotlyServerURL": "https://plot.ly"
       },
       "data": [
        {
         "name": "Acquisition costs Site acquisition nan",
         "type": "bar",
         "x": [
          "2020-12-31T00:00:00",
          "2021-01-31T00:00:00",
          "2021-02-28T00:00:00",
          "2021-03-31T00:00:00",
          "2021-04-30T00:00:00",
          "2021-05-31T00:00:00",
          "2021-06-30T00:00:00",
          "2021-07-31T00:00:00",
          "2021-08-31T00:00:00",
          "2021-09-30T00:00:00",
          "2021-10-31T00:00:00",
          "2021-11-30T00:00:00",
          "2021-12-31T00:00:00",
          "2022-01-31T00:00:00",
          "2022-02-28T00:00:00",
          "2022-03-31T00:00:00",
          "2022-04-30T00:00:00",
          "2022-05-31T00:00:00",
          "2022-06-30T00:00:00",
          "2022-07-31T00:00:00",
          "2022-08-31T00:00:00",
          "2022-09-30T00:00:00"
         ],
         "y": [
          7740000,
          7740000,
          7740000,
          7740000,
          7740000,
          7740000,
          7740000,
          7740000,
          7740000,
          7740000,
          7740000,
          7740000,
          7740000,
          7740000,
          7740000,
          7740000,
          7740000,
          7740000,
          7740000,
          7740000,
          7740000,
          7740000
         ]
        },
        {
         "name": "Other acquisition costs Stamp Duty inc VAT (on actual purchase) nan",
         "type": "bar",
         "x": [
          "2020-12-31T00:00:00",
          "2021-01-31T00:00:00",
          "2021-02-28T00:00:00",
          "2021-03-31T00:00:00",
          "2021-04-30T00:00:00",
          "2021-05-31T00:00:00",
          "2021-06-30T00:00:00",
          "2021-07-31T00:00:00",
          "2021-08-31T00:00:00",
          "2021-09-30T00:00:00",
          "2021-10-31T00:00:00",
          "2021-11-30T00:00:00",
          "2021-12-31T00:00:00",
          "2022-01-31T00:00:00",
          "2022-02-28T00:00:00",
          "2022-03-31T00:00:00",
          "2022-04-30T00:00:00",
          "2022-05-31T00:00:00",
          "2022-06-30T00:00:00",
          "2022-07-31T00:00:00",
          "2022-08-31T00:00:00",
          "2022-09-30T00:00:00"
         ],
         "y": [
          189500,
          189500,
          189500,
          189500,
          189500,
          189500,
          189500,
          189500,
          189500,
          189500,
          189500,
          189500,
          189500,
          189500,
          189500,
          189500,
          189500,
          189500,
          189500,
          189500,
          189500,
          189500
         ]
        },
        {
         "name": "Other acquisition costs Jensco legal costs land & S106 nan",
         "type": "bar",
         "x": [
          "2020-12-31T00:00:00",
          "2021-01-31T00:00:00",
          "2021-02-28T00:00:00",
          "2021-03-31T00:00:00",
          "2021-04-30T00:00:00",
          "2021-05-31T00:00:00",
          "2021-06-30T00:00:00",
          "2021-07-31T00:00:00",
          "2021-08-31T00:00:00",
          "2021-09-30T00:00:00",
          "2021-10-31T00:00:00",
          "2021-11-30T00:00:00",
          "2021-12-31T00:00:00",
          "2022-01-31T00:00:00",
          "2022-02-28T00:00:00",
          "2022-03-31T00:00:00",
          "2022-04-30T00:00:00",
          "2022-05-31T00:00:00",
          "2022-06-30T00:00:00",
          "2022-07-31T00:00:00",
          "2022-08-31T00:00:00",
          "2022-09-30T00:00:00"
         ],
         "y": [
          23563,
          23563,
          23563,
          23563,
          23563,
          23563,
          23563,
          23563,
          23563,
          23563,
          23563,
          23563,
          23563,
          23563,
          23563,
          23563,
          23563,
          23563,
          23563,
          23563,
          23563,
          23563
         ]
        },
        {
         "name": "Other acquisition costs Jensco legal costs funding (inc Oak North) nan",
         "type": "bar",
         "x": [
          "2020-12-31T00:00:00",
          "2021-01-31T00:00:00",
          "2021-02-28T00:00:00",
          "2021-03-31T00:00:00",
          "2021-04-30T00:00:00",
          "2021-05-31T00:00:00",
          "2021-06-30T00:00:00",
          "2021-07-31T00:00:00",
          "2021-08-31T00:00:00",
          "2021-09-30T00:00:00",
          "2021-10-31T00:00:00",
          "2021-11-30T00:00:00",
          "2021-12-31T00:00:00",
          "2022-01-31T00:00:00",
          "2022-02-28T00:00:00",
          "2022-03-31T00:00:00",
          "2022-04-30T00:00:00",
          "2022-05-31T00:00:00",
          "2022-06-30T00:00:00",
          "2022-07-31T00:00:00",
          "2022-08-31T00:00:00",
          "2022-09-30T00:00:00"
         ],
         "y": [
          39350,
          39350,
          39350,
          39350,
          39350,
          39350,
          39350,
          39350,
          39350,
          39350,
          39350,
          39350,
          39350,
          39350,
          39350,
          39350,
          39350,
          39350,
          39350,
          39350,
          39350,
          39350
         ]
        },
        {
         "name": "Other acquisition costs Jensco legal costs - Kinetic funding nan",
         "type": "bar",
         "x": [
          "2020-12-31T00:00:00",
          "2021-01-31T00:00:00",
          "2021-02-28T00:00:00",
          "2021-03-31T00:00:00",
          "2021-04-30T00:00:00",
          "2021-05-31T00:00:00",
          "2021-06-30T00:00:00",
          "2021-07-31T00:00:00",
          "2021-08-31T00:00:00",
          "2021-09-30T00:00:00",
          "2021-10-31T00:00:00",
          "2021-11-30T00:00:00",
          "2021-12-31T00:00:00",
          "2022-01-31T00:00:00",
          "2022-02-28T00:00:00",
          "2022-03-31T00:00:00",
          "2022-04-30T00:00:00",
          "2022-05-31T00:00:00",
          "2022-06-30T00:00:00",
          "2022-07-31T00:00:00",
          "2022-08-31T00:00:00",
          "2022-09-30T00:00:00"
         ],
         "y": [
          33150,
          33150,
          33150,
          33150,
          33150,
          33150,
          33150,
          33150,
          33150,
          33150,
          33150,
          33150,
          33150,
          33150,
          33150,
          33150,
          33150,
          33150,
          33150,
          33150,
          33150,
          33150
         ]
        },
        {
         "name": "Other acquisition costs Jensco legal fees - construction nan",
         "type": "bar",
         "x": [
          "2020-12-31T00:00:00",
          "2021-01-31T00:00:00",
          "2021-02-28T00:00:00",
          "2021-03-31T00:00:00",
          "2021-04-30T00:00:00",
          "2021-05-31T00:00:00",
          "2021-06-30T00:00:00",
          "2021-07-31T00:00:00",
          "2021-08-31T00:00:00",
          "2021-09-30T00:00:00",
          "2021-10-31T00:00:00",
          "2021-11-30T00:00:00",
          "2021-12-31T00:00:00",
          "2022-01-31T00:00:00",
          "2022-02-28T00:00:00",
          "2022-03-31T00:00:00",
          "2022-04-30T00:00:00",
          "2022-05-31T00:00:00",
          "2022-06-30T00:00:00",
          "2022-07-31T00:00:00",
          "2022-08-31T00:00:00",
          "2022-09-30T00:00:00"
         ],
         "y": [
          38400,
          38400,
          38400,
          38400,
          38400,
          38400,
          38400,
          38400,
          38400,
          38400,
          38400,
          38400,
          38400,
          38400,
          38400,
          38400,
          38400,
          38400,
          38400,
          38400,
          38400,
          38400
         ]
        },
        {
         "name": "Other acquisition costs Bank Valuation Fees nan",
         "type": "bar",
         "x": [
          "2020-12-31T00:00:00",
          "2021-01-31T00:00:00",
          "2021-02-28T00:00:00",
          "2021-03-31T00:00:00",
          "2021-04-30T00:00:00",
          "2021-05-31T00:00:00",
          "2021-06-30T00:00:00",
          "2021-07-31T00:00:00",
          "2021-08-31T00:00:00",
          "2021-09-30T00:00:00",
          "2021-10-31T00:00:00",
          "2021-11-30T00:00:00",
          "2021-12-31T00:00:00",
          "2022-01-31T00:00:00",
          "2022-02-28T00:00:00",
          "2022-03-31T00:00:00",
          "2022-04-30T00:00:00",
          "2022-05-31T00:00:00",
          "2022-06-30T00:00:00",
          "2022-07-31T00:00:00",
          "2022-08-31T00:00:00",
          "2022-09-30T00:00:00"
         ],
         "y": [
          16200,
          16200,
          16200,
          16200,
          16200,
          16200,
          16200,
          16200,
          16200,
          16200,
          16200,
          16200,
          16200,
          16200,
          16200,
          16200,
          16200,
          16200,
          16200,
          16200,
          16200,
          16200
         ]
        },
        {
         "name": "Other acquisition costs Vat recovered on day 1 costs nan",
         "type": "bar",
         "x": [
          "2020-12-31T00:00:00",
          "2021-01-31T00:00:00",
          "2021-02-28T00:00:00",
          "2021-03-31T00:00:00",
          "2021-04-30T00:00:00",
          "2021-05-31T00:00:00",
          "2021-06-30T00:00:00",
          "2021-07-31T00:00:00",
          "2021-08-31T00:00:00",
          "2021-09-30T00:00:00",
          "2021-10-31T00:00:00",
          "2021-11-30T00:00:00",
          "2021-12-31T00:00:00",
          "2022-01-31T00:00:00",
          "2022-02-28T00:00:00",
          "2022-03-31T00:00:00",
          "2022-04-30T00:00:00",
          "2022-05-31T00:00:00",
          "2022-06-30T00:00:00",
          "2022-07-31T00:00:00",
          "2022-08-31T00:00:00",
          "2022-09-30T00:00:00"
         ],
         "y": [
          0,
          0,
          -20941,
          -20941,
          -20941,
          -20941,
          -20941,
          -20941,
          -20941,
          -20941,
          -20941,
          -20941,
          -20941,
          -20941,
          -20941,
          -20941,
          -20941,
          -20941,
          -20941,
          -20941,
          -20941,
          -20941
         ]
        },
        {
         "name": "Construction costs Construction costs nan",
         "type": "bar",
         "x": [
          "2020-12-31T00:00:00",
          "2021-01-31T00:00:00",
          "2021-02-28T00:00:00",
          "2021-03-31T00:00:00",
          "2021-04-30T00:00:00",
          "2021-05-31T00:00:00",
          "2021-06-30T00:00:00",
          "2021-07-31T00:00:00",
          "2021-08-31T00:00:00",
          "2021-09-30T00:00:00",
          "2021-10-31T00:00:00",
          "2021-11-30T00:00:00",
          "2021-12-31T00:00:00",
          "2022-01-31T00:00:00",
          "2022-02-28T00:00:00",
          "2022-03-31T00:00:00",
          "2022-04-30T00:00:00",
          "2022-05-31T00:00:00",
          "2022-06-30T00:00:00",
          "2022-07-31T00:00:00",
          "2022-08-31T00:00:00",
          "2022-09-30T00:00:00"
         ],
         "y": [
          0,
          0,
          1257945.52,
          2757803.6399999997,
          4209279.239999999,
          5709137.359999999,
          7160612.959999999,
          8660471.079999998,
          10160329.199999997,
          11611804.799999997,
          13111662.919999996,
          14563138.519999996,
          16062996.639999995,
          17562854.759999994,
          18917565.319999993,
          20417423.439999994,
          21868899.039999995,
          23368757.159999996,
          24820232.759999998,
          26320090.88,
          27819949,
          29271426
         ]
        },
        {
         "name": "Professional fees Development Management Fee nan",
         "type": "bar",
         "x": [
          "2020-12-31T00:00:00",
          "2021-01-31T00:00:00",
          "2021-02-28T00:00:00",
          "2021-03-31T00:00:00",
          "2021-04-30T00:00:00",
          "2021-05-31T00:00:00",
          "2021-06-30T00:00:00",
          "2021-07-31T00:00:00",
          "2021-08-31T00:00:00",
          "2021-09-30T00:00:00",
          "2021-10-31T00:00:00",
          "2021-11-30T00:00:00",
          "2021-12-31T00:00:00",
          "2022-01-31T00:00:00",
          "2022-02-28T00:00:00",
          "2022-03-31T00:00:00",
          "2022-04-30T00:00:00",
          "2022-05-31T00:00:00",
          "2022-06-30T00:00:00",
          "2022-07-31T00:00:00",
          "2022-08-31T00:00:00",
          "2022-09-30T00:00:00"
         ],
         "y": [
          0,
          0,
          0,
          0,
          0,
          0,
          0,
          0,
          0,
          0,
          0,
          0,
          0,
          0,
          0,
          0,
          0,
          0,
          0,
          0,
          0,
          338000
         ]
        },
        {
         "name": "Professional fees Project managers & QS nan",
         "type": "bar",
         "x": [
          "2020-12-31T00:00:00",
          "2021-01-31T00:00:00",
          "2021-02-28T00:00:00",
          "2021-03-31T00:00:00",
          "2021-04-30T00:00:00",
          "2021-05-31T00:00:00",
          "2021-06-30T00:00:00",
          "2021-07-31T00:00:00",
          "2021-08-31T00:00:00",
          "2021-09-30T00:00:00",
          "2021-10-31T00:00:00",
          "2021-11-30T00:00:00",
          "2021-12-31T00:00:00",
          "2022-01-31T00:00:00",
          "2022-02-28T00:00:00",
          "2022-03-31T00:00:00",
          "2022-04-30T00:00:00",
          "2022-05-31T00:00:00",
          "2022-06-30T00:00:00",
          "2022-07-31T00:00:00",
          "2022-08-31T00:00:00",
          "2022-09-30T00:00:00"
         ],
         "y": [
          0,
          0,
          1899.65,
          13677.48,
          25075.379999999997,
          36853.21,
          48251.11,
          60028.94,
          71806.77,
          83204.67,
          94982.5,
          106380.4,
          118158.23,
          129936.06,
          140574.1,
          152351.93,
          163749.83,
          175527.65999999997,
          186925.55999999997,
          198703.38999999996,
          210481.21999999994,
          221877
         ]
        },
        {
         "name": "Professional fees M&E Consultant - client side nan",
         "type": "bar",
         "x": [
          "2020-12-31T00:00:00",
          "2021-01-31T00:00:00",
          "2021-02-28T00:00:00",
          "2021-03-31T00:00:00",
          "2021-04-30T00:00:00",
          "2021-05-31T00:00:00",
          "2021-06-30T00:00:00",
          "2021-07-31T00:00:00",
          "2021-08-31T00:00:00",
          "2021-09-30T00:00:00",
          "2021-10-31T00:00:00",
          "2021-11-30T00:00:00",
          "2021-12-31T00:00:00",
          "2022-01-31T00:00:00",
          "2022-02-28T00:00:00",
          "2022-03-31T00:00:00",
          "2022-04-30T00:00:00",
          "2022-05-31T00:00:00",
          "2022-06-30T00:00:00",
          "2022-07-31T00:00:00",
          "2022-08-31T00:00:00",
          "2022-09-30T00:00:00"
         ],
         "y": [
          0,
          0,
          756,
          5443.2,
          9979.2,
          14666.400000000001,
          19202.4,
          23889.600000000002,
          28576.800000000003,
          33112.8,
          37800,
          42336,
          47023.2,
          51710.399999999994,
          55943.99999999999,
          60631.19999999999,
          65167.19999999999,
          69854.4,
          74390.4,
          79077.59999999999,
          83764.79999999999,
          88299.99999999997
         ]
        },
        {
         "name": "Professional fees Planning costs - see schedule nan",
         "type": "bar",
         "x": [
          "2020-12-31T00:00:00",
          "2021-01-31T00:00:00",
          "2021-02-28T00:00:00",
          "2021-03-31T00:00:00",
          "2021-04-30T00:00:00",
          "2021-05-31T00:00:00",
          "2021-06-30T00:00:00",
          "2021-07-31T00:00:00",
          "2021-08-31T00:00:00",
          "2021-09-30T00:00:00",
          "2021-10-31T00:00:00",
          "2021-11-30T00:00:00",
          "2021-12-31T00:00:00",
          "2022-01-31T00:00:00",
          "2022-02-28T00:00:00",
          "2022-03-31T00:00:00",
          "2022-04-30T00:00:00",
          "2022-05-31T00:00:00",
          "2022-06-30T00:00:00",
          "2022-07-31T00:00:00",
          "2022-08-31T00:00:00",
          "2022-09-30T00:00:00"
         ],
         "y": [
          425070,
          425070,
          425070,
          425070,
          425070,
          425070,
          425070,
          425070,
          425070,
          425070,
          425070,
          425070,
          425070,
          425070,
          425070,
          425070,
          425070,
          425070,
          425070,
          425070,
          425070,
          425070
         ]
        },
        {
         "name": "Professional fees Architect / Planning / Survey Fees nan",
         "type": "bar",
         "x": [
          "2020-12-31T00:00:00",
          "2021-01-31T00:00:00",
          "2021-02-28T00:00:00",
          "2021-03-31T00:00:00",
          "2021-04-30T00:00:00",
          "2021-05-31T00:00:00",
          "2021-06-30T00:00:00",
          "2021-07-31T00:00:00",
          "2021-08-31T00:00:00",
          "2021-09-30T00:00:00",
          "2021-10-31T00:00:00",
          "2021-11-30T00:00:00",
          "2021-12-31T00:00:00",
          "2022-01-31T00:00:00",
          "2022-02-28T00:00:00",
          "2022-03-31T00:00:00",
          "2022-04-30T00:00:00",
          "2022-05-31T00:00:00",
          "2022-06-30T00:00:00",
          "2022-07-31T00:00:00",
          "2022-08-31T00:00:00",
          "2022-09-30T00:00:00"
         ],
         "y": [
          0,
          0,
          4213.82,
          9237.99,
          14100.09,
          19124.260000000002,
          23986.36,
          29010.53,
          34034.7,
          38896.799999999996,
          43920.969999999994,
          47810.00000000001,
          47810.00000000001,
          47810.00000000001,
          47810.00000000001,
          47810.00000000001,
          47810.00000000001,
          47810.00000000001,
          47810.00000000001,
          47810.00000000001,
          47810.00000000001,
          47810.00000000001
         ]
        },
        {
         "name": "Professional fees Bank Fee Contingency nan",
         "type": "bar",
         "x": [
          "2020-12-31T00:00:00",
          "2021-01-31T00:00:00",
          "2021-02-28T00:00:00",
          "2021-03-31T00:00:00",
          "2021-04-30T00:00:00",
          "2021-05-31T00:00:00",
          "2021-06-30T00:00:00",
          "2021-07-31T00:00:00",
          "2021-08-31T00:00:00",
          "2021-09-30T00:00:00",
          "2021-10-31T00:00:00",
          "2021-11-30T00:00:00",
          "2021-12-31T00:00:00",
          "2022-01-31T00:00:00",
          "2022-02-28T00:00:00",
          "2022-03-31T00:00:00",
          "2022-04-30T00:00:00",
          "2022-05-31T00:00:00",
          "2022-06-30T00:00:00",
          "2022-07-31T00:00:00",
          "2022-08-31T00:00:00",
          "2022-09-30T00:00:00"
         ],
         "y": [
          0,
          0,
          0,
          0,
          0,
          0,
          0,
          41.4,
          184,
          322,
          464.6,
          602.6,
          745.2,
          887.8000000000001,
          1016.6,
          1159.2,
          1297.2,
          1439.8,
          1577.8,
          1720.3999999999999,
          1862.9999999999998,
          1999.9999999999993
         ]
        },
        {
         "name": "Professional fees Material Storage Charges nan",
         "type": "bar",
         "x": [
          "2020-12-31T00:00:00",
          "2021-01-31T00:00:00",
          "2021-02-28T00:00:00",
          "2021-03-31T00:00:00",
          "2021-04-30T00:00:00",
          "2021-05-31T00:00:00",
          "2021-06-30T00:00:00",
          "2021-07-31T00:00:00",
          "2021-08-31T00:00:00",
          "2021-09-30T00:00:00",
          "2021-10-31T00:00:00",
          "2021-11-30T00:00:00",
          "2021-12-31T00:00:00",
          "2022-01-31T00:00:00",
          "2022-02-28T00:00:00",
          "2022-03-31T00:00:00",
          "2022-04-30T00:00:00",
          "2022-05-31T00:00:00",
          "2022-06-30T00:00:00",
          "2022-07-31T00:00:00",
          "2022-08-31T00:00:00",
          "2022-09-30T00:00:00"
         ],
         "y": [
          0,
          0,
          0,
          0,
          0,
          0,
          0,
          0,
          0,
          258.58,
          831.1499999999999,
          1385.2499999999998,
          1957.8199999999997,
          2530.3899999999994,
          3047.5499999999993,
          3620.119999999999,
          4174.219999999999,
          4746.789999999999,
          5300.889999999999,
          5873.459999999999,
          6446.029999999999,
          7000
         ]
        },
        {
         "name": "Professional fees Legal Fees and Accountancy  nan",
         "type": "bar",
         "x": [
          "2020-12-31T00:00:00",
          "2021-01-31T00:00:00",
          "2021-02-28T00:00:00",
          "2021-03-31T00:00:00",
          "2021-04-30T00:00:00",
          "2021-05-31T00:00:00",
          "2021-06-30T00:00:00",
          "2021-07-31T00:00:00",
          "2021-08-31T00:00:00",
          "2021-09-30T00:00:00",
          "2021-10-31T00:00:00",
          "2021-11-30T00:00:00",
          "2021-12-31T00:00:00",
          "2022-01-31T00:00:00",
          "2022-02-28T00:00:00",
          "2022-03-31T00:00:00",
          "2022-04-30T00:00:00",
          "2022-05-31T00:00:00",
          "2022-06-30T00:00:00",
          "2022-07-31T00:00:00",
          "2022-08-31T00:00:00",
          "2022-09-30T00:00:00"
         ],
         "y": [
          0,
          0,
          0,
          0,
          0,
          0,
          0,
          0,
          0,
          0,
          0,
          26676,
          26676,
          26676,
          26676,
          26676,
          26676,
          26676,
          26676,
          26676,
          26676,
          26676
         ]
        },
        {
         "name": "Professional fees Unallocated fee contingency nan",
         "type": "bar",
         "x": [
          "2020-12-31T00:00:00",
          "2021-01-31T00:00:00",
          "2021-02-28T00:00:00",
          "2021-03-31T00:00:00",
          "2021-04-30T00:00:00",
          "2021-05-31T00:00:00",
          "2021-06-30T00:00:00",
          "2021-07-31T00:00:00",
          "2021-08-31T00:00:00",
          "2021-09-30T00:00:00",
          "2021-10-31T00:00:00",
          "2021-11-30T00:00:00",
          "2021-12-31T00:00:00",
          "2022-01-31T00:00:00",
          "2022-02-28T00:00:00",
          "2022-03-31T00:00:00",
          "2022-04-30T00:00:00",
          "2022-05-31T00:00:00",
          "2022-06-30T00:00:00",
          "2022-07-31T00:00:00",
          "2022-08-31T00:00:00",
          "2022-09-30T00:00:00"
         ],
         "y": [
          0,
          0,
          0,
          0,
          0,
          0,
          0,
          0,
          0,
          0,
          0,
          0,
          0,
          31303,
          31303,
          31303,
          31303,
          31303,
          31303,
          31303,
          31303,
          31303
         ]
        },
        {
         "name": "Statutory costs S106 / 278 (over build cost inclusion) nan",
         "type": "bar",
         "x": [
          "2020-12-31T00:00:00",
          "2021-01-31T00:00:00",
          "2021-02-28T00:00:00",
          "2021-03-31T00:00:00",
          "2021-04-30T00:00:00",
          "2021-05-31T00:00:00",
          "2021-06-30T00:00:00",
          "2021-07-31T00:00:00",
          "2021-08-31T00:00:00",
          "2021-09-30T00:00:00",
          "2021-10-31T00:00:00",
          "2021-11-30T00:00:00",
          "2021-12-31T00:00:00",
          "2022-01-31T00:00:00",
          "2022-02-28T00:00:00",
          "2022-03-31T00:00:00",
          "2022-04-30T00:00:00",
          "2022-05-31T00:00:00",
          "2022-06-30T00:00:00",
          "2022-07-31T00:00:00",
          "2022-08-31T00:00:00",
          "2022-09-30T00:00:00"
         ],
         "y": [
          0,
          0,
          16760.38,
          36743.91,
          56082.810000000005,
          76066.34,
          95405.23999999999,
          115388.76999999999,
          135372.3,
          154711.19999999998,
          174694.72999999998,
          194033.62999999998,
          214017.15999999997,
          234000.68999999997,
          252050.32999999996,
          272033.86,
          291372.76,
          311356.29000000004,
          330695.19000000006,
          350678.7200000001,
          370662.2500000001,
          390000.0000000001
         ]
        },
        {
         "name": "Marketing 1st year mobilisation & marketing nan",
         "type": "bar",
         "x": [
          "2020-12-31T00:00:00",
          "2021-01-31T00:00:00",
          "2021-02-28T00:00:00",
          "2021-03-31T00:00:00",
          "2021-04-30T00:00:00",
          "2021-05-31T00:00:00",
          "2021-06-30T00:00:00",
          "2021-07-31T00:00:00",
          "2021-08-31T00:00:00",
          "2021-09-30T00:00:00",
          "2021-10-31T00:00:00",
          "2021-11-30T00:00:00",
          "2021-12-31T00:00:00",
          "2022-01-31T00:00:00",
          "2022-02-28T00:00:00",
          "2022-03-31T00:00:00",
          "2022-04-30T00:00:00",
          "2022-05-31T00:00:00",
          "2022-06-30T00:00:00",
          "2022-07-31T00:00:00",
          "2022-08-31T00:00:00",
          "2022-09-30T00:00:00"
         ],
         "y": [
          0,
          0,
          0,
          0,
          0,
          6012,
          21042,
          36573,
          52104,
          67134,
          82665,
          97695,
          113226,
          128757,
          142785,
          158316,
          173346,
          188877,
          203907,
          219438,
          234969,
          250000
         ]
        },
        {
         "name": "Other costs Insurances - Developer Risk nan",
         "type": "bar",
         "x": [
          "2020-12-31T00:00:00",
          "2021-01-31T00:00:00",
          "2021-02-28T00:00:00",
          "2021-03-31T00:00:00",
          "2021-04-30T00:00:00",
          "2021-05-31T00:00:00",
          "2021-06-30T00:00:00",
          "2021-07-31T00:00:00",
          "2021-08-31T00:00:00",
          "2021-09-30T00:00:00",
          "2021-10-31T00:00:00",
          "2021-11-30T00:00:00",
          "2021-12-31T00:00:00",
          "2022-01-31T00:00:00",
          "2022-02-28T00:00:00",
          "2022-03-31T00:00:00",
          "2022-04-30T00:00:00",
          "2022-05-31T00:00:00",
          "2022-06-30T00:00:00",
          "2022-07-31T00:00:00",
          "2022-08-31T00:00:00",
          "2022-09-30T00:00:00"
         ],
         "y": [
          72374,
          72374,
          72374,
          72374,
          72374,
          72374,
          72374,
          72374,
          72374,
          72374,
          72374,
          72374,
          72374,
          72374,
          72374,
          72374,
          72374,
          72374,
          72374,
          72374,
          72374,
          72374
         ]
        },
        {
         "name": "Other costs Knight Frank (debt broker) Knight Frank",
         "type": "bar",
         "x": [
          "2020-12-31T00:00:00",
          "2021-01-31T00:00:00",
          "2021-02-28T00:00:00",
          "2021-03-31T00:00:00",
          "2021-04-30T00:00:00",
          "2021-05-31T00:00:00",
          "2021-06-30T00:00:00",
          "2021-07-31T00:00:00",
          "2021-08-31T00:00:00",
          "2021-09-30T00:00:00",
          "2021-10-31T00:00:00",
          "2021-11-30T00:00:00",
          "2021-12-31T00:00:00",
          "2022-01-31T00:00:00",
          "2022-02-28T00:00:00",
          "2022-03-31T00:00:00",
          "2022-04-30T00:00:00",
          "2022-05-31T00:00:00",
          "2022-06-30T00:00:00",
          "2022-07-31T00:00:00",
          "2022-08-31T00:00:00",
          "2022-09-30T00:00:00"
         ],
         "y": [
          300000,
          300000,
          300000,
          300000,
          300000,
          300000,
          300000,
          300000,
          300000,
          300000,
          300000,
          300000,
          300000,
          300000,
          300000,
          300000,
          300000,
          300000,
          300000,
          300000,
          300000,
          300000
         ]
        },
        {
         "name": "Project contingency Irrecoverable VAT (contingency) nan",
         "type": "bar",
         "x": [
          "2020-12-31T00:00:00",
          "2021-01-31T00:00:00",
          "2021-02-28T00:00:00",
          "2021-03-31T00:00:00",
          "2021-04-30T00:00:00",
          "2021-05-31T00:00:00",
          "2021-06-30T00:00:00",
          "2021-07-31T00:00:00",
          "2021-08-31T00:00:00",
          "2021-09-30T00:00:00",
          "2021-10-31T00:00:00",
          "2021-11-30T00:00:00",
          "2021-12-31T00:00:00",
          "2022-01-31T00:00:00",
          "2022-02-28T00:00:00",
          "2022-03-31T00:00:00",
          "2022-04-30T00:00:00",
          "2022-05-31T00:00:00",
          "2022-06-30T00:00:00",
          "2022-07-31T00:00:00",
          "2022-08-31T00:00:00",
          "2022-09-30T00:00:00"
         ],
         "y": [
          0,
          0,
          0,
          0,
          0,
          0,
          0,
          0,
          0,
          0,
          0,
          0,
          0,
          0,
          0,
          0,
          0,
          0,
          0,
          0,
          0,
          100000
         ]
        },
        {
         "name": "Project contingency Risk Allowance (contingency) nan",
         "type": "bar",
         "x": [
          "2020-12-31T00:00:00",
          "2021-01-31T00:00:00",
          "2021-02-28T00:00:00",
          "2021-03-31T00:00:00",
          "2021-04-30T00:00:00",
          "2021-05-31T00:00:00",
          "2021-06-30T00:00:00",
          "2021-07-31T00:00:00",
          "2021-08-31T00:00:00",
          "2021-09-30T00:00:00",
          "2021-10-31T00:00:00",
          "2021-11-30T00:00:00",
          "2021-12-31T00:00:00",
          "2022-01-31T00:00:00",
          "2022-02-28T00:00:00",
          "2022-03-31T00:00:00",
          "2022-04-30T00:00:00",
          "2022-05-31T00:00:00",
          "2022-06-30T00:00:00",
          "2022-07-31T00:00:00",
          "2022-08-31T00:00:00",
          "2022-09-30T00:00:00"
         ],
         "y": [
          0,
          0,
          0,
          0,
          0,
          0,
          0,
          0,
          0,
          0,
          0,
          0,
          34758.3,
          142509.03,
          239832.27,
          347583,
          451857.9,
          559608.63,
          663883.53,
          771634.26,
          879384.99,
          983659.9999999998
         ]
        }
       ],
       "layout": {
        "autosize": true,
        "barmode": "stack",
        "height": 600,
        "legend": {
         "orientation": "v",
         "x": 1.05,
         "xanchor": "left",
         "y": 0.5,
         "yanchor": "middle"
        },
        "margin": {
         "b": 40,
         "l": 10,
         "r": 10,
         "t": 40
        },
        "template": {
         "data": {
          "bar": [
           {
            "error_x": {
             "color": "#2a3f5f"
            },
            "error_y": {
             "color": "#2a3f5f"
            },
            "marker": {
             "line": {
              "color": "#E5ECF6",
              "width": 0.5
             },
             "pattern": {
              "fillmode": "overlay",
              "size": 10,
              "solidity": 0.2
             }
            },
            "type": "bar"
           }
          ],
          "barpolar": [
           {
            "marker": {
             "line": {
              "color": "#E5ECF6",
              "width": 0.5
             },
             "pattern": {
              "fillmode": "overlay",
              "size": 10,
              "solidity": 0.2
             }
            },
            "type": "barpolar"
           }
          ],
          "carpet": [
           {
            "aaxis": {
             "endlinecolor": "#2a3f5f",
             "gridcolor": "white",
             "linecolor": "white",
             "minorgridcolor": "white",
             "startlinecolor": "#2a3f5f"
            },
            "baxis": {
             "endlinecolor": "#2a3f5f",
             "gridcolor": "white",
             "linecolor": "white",
             "minorgridcolor": "white",
             "startlinecolor": "#2a3f5f"
            },
            "type": "carpet"
           }
          ],
          "choropleth": [
           {
            "colorbar": {
             "outlinewidth": 0,
             "ticks": ""
            },
            "type": "choropleth"
           }
          ],
          "contour": [
           {
            "colorbar": {
             "outlinewidth": 0,
             "ticks": ""
            },
            "colorscale": [
             [
              0,
              "#0d0887"
             ],
             [
              0.1111111111111111,
              "#46039f"
             ],
             [
              0.2222222222222222,
              "#7201a8"
             ],
             [
              0.3333333333333333,
              "#9c179e"
             ],
             [
              0.4444444444444444,
              "#bd3786"
             ],
             [
              0.5555555555555556,
              "#d8576b"
             ],
             [
              0.6666666666666666,
              "#ed7953"
             ],
             [
              0.7777777777777778,
              "#fb9f3a"
             ],
             [
              0.8888888888888888,
              "#fdca26"
             ],
             [
              1,
              "#f0f921"
             ]
            ],
            "type": "contour"
           }
          ],
          "contourcarpet": [
           {
            "colorbar": {
             "outlinewidth": 0,
             "ticks": ""
            },
            "type": "contourcarpet"
           }
          ],
          "heatmap": [
           {
            "colorbar": {
             "outlinewidth": 0,
             "ticks": ""
            },
            "colorscale": [
             [
              0,
              "#0d0887"
             ],
             [
              0.1111111111111111,
              "#46039f"
             ],
             [
              0.2222222222222222,
              "#7201a8"
             ],
             [
              0.3333333333333333,
              "#9c179e"
             ],
             [
              0.4444444444444444,
              "#bd3786"
             ],
             [
              0.5555555555555556,
              "#d8576b"
             ],
             [
              0.6666666666666666,
              "#ed7953"
             ],
             [
              0.7777777777777778,
              "#fb9f3a"
             ],
             [
              0.8888888888888888,
              "#fdca26"
             ],
             [
              1,
              "#f0f921"
             ]
            ],
            "type": "heatmap"
           }
          ],
          "heatmapgl": [
           {
            "colorbar": {
             "outlinewidth": 0,
             "ticks": ""
            },
            "colorscale": [
             [
              0,
              "#0d0887"
             ],
             [
              0.1111111111111111,
              "#46039f"
             ],
             [
              0.2222222222222222,
              "#7201a8"
             ],
             [
              0.3333333333333333,
              "#9c179e"
             ],
             [
              0.4444444444444444,
              "#bd3786"
             ],
             [
              0.5555555555555556,
              "#d8576b"
             ],
             [
              0.6666666666666666,
              "#ed7953"
             ],
             [
              0.7777777777777778,
              "#fb9f3a"
             ],
             [
              0.8888888888888888,
              "#fdca26"
             ],
             [
              1,
              "#f0f921"
             ]
            ],
            "type": "heatmapgl"
           }
          ],
          "histogram": [
           {
            "marker": {
             "pattern": {
              "fillmode": "overlay",
              "size": 10,
              "solidity": 0.2
             }
            },
            "type": "histogram"
           }
          ],
          "histogram2d": [
           {
            "colorbar": {
             "outlinewidth": 0,
             "ticks": ""
            },
            "colorscale": [
             [
              0,
              "#0d0887"
             ],
             [
              0.1111111111111111,
              "#46039f"
             ],
             [
              0.2222222222222222,
              "#7201a8"
             ],
             [
              0.3333333333333333,
              "#9c179e"
             ],
             [
              0.4444444444444444,
              "#bd3786"
             ],
             [
              0.5555555555555556,
              "#d8576b"
             ],
             [
              0.6666666666666666,
              "#ed7953"
             ],
             [
              0.7777777777777778,
              "#fb9f3a"
             ],
             [
              0.8888888888888888,
              "#fdca26"
             ],
             [
              1,
              "#f0f921"
             ]
            ],
            "type": "histogram2d"
           }
          ],
          "histogram2dcontour": [
           {
            "colorbar": {
             "outlinewidth": 0,
             "ticks": ""
            },
            "colorscale": [
             [
              0,
              "#0d0887"
             ],
             [
              0.1111111111111111,
              "#46039f"
             ],
             [
              0.2222222222222222,
              "#7201a8"
             ],
             [
              0.3333333333333333,
              "#9c179e"
             ],
             [
              0.4444444444444444,
              "#bd3786"
             ],
             [
              0.5555555555555556,
              "#d8576b"
             ],
             [
              0.6666666666666666,
              "#ed7953"
             ],
             [
              0.7777777777777778,
              "#fb9f3a"
             ],
             [
              0.8888888888888888,
              "#fdca26"
             ],
             [
              1,
              "#f0f921"
             ]
            ],
            "type": "histogram2dcontour"
           }
          ],
          "mesh3d": [
           {
            "colorbar": {
             "outlinewidth": 0,
             "ticks": ""
            },
            "type": "mesh3d"
           }
          ],
          "parcoords": [
           {
            "line": {
             "colorbar": {
              "outlinewidth": 0,
              "ticks": ""
             }
            },
            "type": "parcoords"
           }
          ],
          "pie": [
           {
            "automargin": true,
            "type": "pie"
           }
          ],
          "scatter": [
           {
            "fillpattern": {
             "fillmode": "overlay",
             "size": 10,
             "solidity": 0.2
            },
            "type": "scatter"
           }
          ],
          "scatter3d": [
           {
            "line": {
             "colorbar": {
              "outlinewidth": 0,
              "ticks": ""
             }
            },
            "marker": {
             "colorbar": {
              "outlinewidth": 0,
              "ticks": ""
             }
            },
            "type": "scatter3d"
           }
          ],
          "scattercarpet": [
           {
            "marker": {
             "colorbar": {
              "outlinewidth": 0,
              "ticks": ""
             }
            },
            "type": "scattercarpet"
           }
          ],
          "scattergeo": [
           {
            "marker": {
             "colorbar": {
              "outlinewidth": 0,
              "ticks": ""
             }
            },
            "type": "scattergeo"
           }
          ],
          "scattergl": [
           {
            "marker": {
             "colorbar": {
              "outlinewidth": 0,
              "ticks": ""
             }
            },
            "type": "scattergl"
           }
          ],
          "scattermapbox": [
           {
            "marker": {
             "colorbar": {
              "outlinewidth": 0,
              "ticks": ""
             }
            },
            "type": "scattermapbox"
           }
          ],
          "scatterpolar": [
           {
            "marker": {
             "colorbar": {
              "outlinewidth": 0,
              "ticks": ""
             }
            },
            "type": "scatterpolar"
           }
          ],
          "scatterpolargl": [
           {
            "marker": {
             "colorbar": {
              "outlinewidth": 0,
              "ticks": ""
             }
            },
            "type": "scatterpolargl"
           }
          ],
          "scatterternary": [
           {
            "marker": {
             "colorbar": {
              "outlinewidth": 0,
              "ticks": ""
             }
            },
            "type": "scatterternary"
           }
          ],
          "surface": [
           {
            "colorbar": {
             "outlinewidth": 0,
             "ticks": ""
            },
            "colorscale": [
             [
              0,
              "#0d0887"
             ],
             [
              0.1111111111111111,
              "#46039f"
             ],
             [
              0.2222222222222222,
              "#7201a8"
             ],
             [
              0.3333333333333333,
              "#9c179e"
             ],
             [
              0.4444444444444444,
              "#bd3786"
             ],
             [
              0.5555555555555556,
              "#d8576b"
             ],
             [
              0.6666666666666666,
              "#ed7953"
             ],
             [
              0.7777777777777778,
              "#fb9f3a"
             ],
             [
              0.8888888888888888,
              "#fdca26"
             ],
             [
              1,
              "#f0f921"
             ]
            ],
            "type": "surface"
           }
          ],
          "table": [
           {
            "cells": {
             "fill": {
              "color": "#EBF0F8"
             },
             "line": {
              "color": "white"
             }
            },
            "header": {
             "fill": {
              "color": "#C8D4E3"
             },
             "line": {
              "color": "white"
             }
            },
            "type": "table"
           }
          ]
         },
         "layout": {
          "annotationdefaults": {
           "arrowcolor": "#2a3f5f",
           "arrowhead": 0,
           "arrowwidth": 1
          },
          "autotypenumbers": "strict",
          "coloraxis": {
           "colorbar": {
            "outlinewidth": 0,
            "ticks": ""
           }
          },
          "colorscale": {
           "diverging": [
            [
             0,
             "#8e0152"
            ],
            [
             0.1,
             "#c51b7d"
            ],
            [
             0.2,
             "#de77ae"
            ],
            [
             0.3,
             "#f1b6da"
            ],
            [
             0.4,
             "#fde0ef"
            ],
            [
             0.5,
             "#f7f7f7"
            ],
            [
             0.6,
             "#e6f5d0"
            ],
            [
             0.7,
             "#b8e186"
            ],
            [
             0.8,
             "#7fbc41"
            ],
            [
             0.9,
             "#4d9221"
            ],
            [
             1,
             "#276419"
            ]
           ],
           "sequential": [
            [
             0,
             "#0d0887"
            ],
            [
             0.1111111111111111,
             "#46039f"
            ],
            [
             0.2222222222222222,
             "#7201a8"
            ],
            [
             0.3333333333333333,
             "#9c179e"
            ],
            [
             0.4444444444444444,
             "#bd3786"
            ],
            [
             0.5555555555555556,
             "#d8576b"
            ],
            [
             0.6666666666666666,
             "#ed7953"
            ],
            [
             0.7777777777777778,
             "#fb9f3a"
            ],
            [
             0.8888888888888888,
             "#fdca26"
            ],
            [
             1,
             "#f0f921"
            ]
           ],
           "sequentialminus": [
            [
             0,
             "#0d0887"
            ],
            [
             0.1111111111111111,
             "#46039f"
            ],
            [
             0.2222222222222222,
             "#7201a8"
            ],
            [
             0.3333333333333333,
             "#9c179e"
            ],
            [
             0.4444444444444444,
             "#bd3786"
            ],
            [
             0.5555555555555556,
             "#d8576b"
            ],
            [
             0.6666666666666666,
             "#ed7953"
            ],
            [
             0.7777777777777778,
             "#fb9f3a"
            ],
            [
             0.8888888888888888,
             "#fdca26"
            ],
            [
             1,
             "#f0f921"
            ]
           ]
          },
          "colorway": [
           "#636efa",
           "#EF553B",
           "#00cc96",
           "#ab63fa",
           "#FFA15A",
           "#19d3f3",
           "#FF6692",
           "#B6E880",
           "#FF97FF",
           "#FECB52"
          ],
          "font": {
           "color": "#2a3f5f"
          },
          "geo": {
           "bgcolor": "white",
           "lakecolor": "white",
           "landcolor": "#E5ECF6",
           "showlakes": true,
           "showland": true,
           "subunitcolor": "white"
          },
          "hoverlabel": {
           "align": "left"
          },
          "hovermode": "closest",
          "mapbox": {
           "style": "light"
          },
          "paper_bgcolor": "white",
          "plot_bgcolor": "#E5ECF6",
          "polar": {
           "angularaxis": {
            "gridcolor": "white",
            "linecolor": "white",
            "ticks": ""
           },
           "bgcolor": "#E5ECF6",
           "radialaxis": {
            "gridcolor": "white",
            "linecolor": "white",
            "ticks": ""
           }
          },
          "scene": {
           "xaxis": {
            "backgroundcolor": "#E5ECF6",
            "gridcolor": "white",
            "gridwidth": 2,
            "linecolor": "white",
            "showbackground": true,
            "ticks": "",
            "zerolinecolor": "white"
           },
           "yaxis": {
            "backgroundcolor": "#E5ECF6",
            "gridcolor": "white",
            "gridwidth": 2,
            "linecolor": "white",
            "showbackground": true,
            "ticks": "",
            "zerolinecolor": "white"
           },
           "zaxis": {
            "backgroundcolor": "#E5ECF6",
            "gridcolor": "white",
            "gridwidth": 2,
            "linecolor": "white",
            "showbackground": true,
            "ticks": "",
            "zerolinecolor": "white"
           }
          },
          "shapedefaults": {
           "line": {
            "color": "#2a3f5f"
           }
          },
          "ternary": {
           "aaxis": {
            "gridcolor": "white",
            "linecolor": "white",
            "ticks": ""
           },
           "baxis": {
            "gridcolor": "white",
            "linecolor": "white",
            "ticks": ""
           },
           "bgcolor": "#E5ECF6",
           "caxis": {
            "gridcolor": "white",
            "linecolor": "white",
            "ticks": ""
           }
          },
          "title": {
           "x": 0.05
          },
          "xaxis": {
           "automargin": true,
           "gridcolor": "white",
           "linecolor": "white",
           "ticks": "",
           "title": {
            "standoff": 15
           },
           "zerolinecolor": "white",
           "zerolinewidth": 2
          },
          "yaxis": {
           "automargin": true,
           "gridcolor": "white",
           "linecolor": "white",
           "ticks": "",
           "title": {
            "standoff": 15
           },
           "zerolinecolor": "white",
           "zerolinewidth": 2
          }
         }
        },
        "title": {
         "text": "Cumulative Costs by Category and Period"
        },
        "width": 1200,
        "xaxis": {
         "title": {
          "text": "Period"
         }
        },
        "yaxis": {
         "title": {
          "text": "Cumulative Amount"
         }
        }
       }
      }
     },
     "metadata": {},
     "output_type": "display_data"
    }
   ],
   "source": [
    "visualiser.plot_cumulative_cost_summary(cashflow_instance)"
   ]
  },
  {
   "cell_type": "code",
   "execution_count": null,
   "metadata": {},
   "outputs": [],
   "source": []
  }
 ],
 "metadata": {
  "kernelspec": {
   "display_name": "Python 3 (ipykernel)",
   "language": "python",
   "name": "python3"
  },
  "language_info": {
   "codemirror_mode": {
    "name": "ipython",
    "version": 3
   },
   "file_extension": ".py",
   "mimetype": "text/x-python",
   "name": "python",
   "nbconvert_exporter": "python",
   "pygments_lexer": "ipython3",
   "version": "3.9.6"
  }
 },
 "nbformat": 4,
 "nbformat_minor": 4
}
