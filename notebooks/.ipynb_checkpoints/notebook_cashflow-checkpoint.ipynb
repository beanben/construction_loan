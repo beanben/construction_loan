{
 "cells": [
  {
   "cell_type": "code",
   "execution_count": 1,
   "metadata": {
    "hide_input": false
   },
   "outputs": [
    {
     "name": "stdout",
     "output_type": "stream",
     "text": [
      "Automatic pdb calling has been turned ON\n"
     ]
    }
   ],
   "source": [
    "# imports\n",
    "\n",
    "# Adds the parent directory to the path to find the construction_loan package\n",
    "import pandas as pd\n",
    "import sys\n",
    "sys.path.append('..')\n",
    "\n",
    "from construction_loan.budget import Budget\n",
    "from construction_loan.cashflow import Cashflow\n",
    "from construction_loan.visualiser import DataVisualiser\n",
    "\n",
    "%pdb on\n",
    "\n",
    "visualiser = DataVisualiser()"
   ]
  },
  {
   "cell_type": "code",
   "execution_count": 2,
   "metadata": {
    "hide_input": false,
    "scrolled": true
   },
   "outputs": [],
   "source": [
    "# csv source\n",
    "csv_file = '../data/jensco_cf - v2.csv'"
   ]
  },
  {
   "cell_type": "code",
   "execution_count": 3,
   "metadata": {},
   "outputs": [],
   "source": [
    "# budget / cashflow instance\n",
    "cashflow_instance = Cashflow.from_csv(csv_file)"
   ]
  },
  {
   "cell_type": "code",
   "execution_count": null,
   "metadata": {
    "jupyter": {
     "source_hidden": true
    }
   },
   "outputs": [],
   "source": [
    "# explore\n",
    "# visualiser.display_dataframe(cashflow_instance.df)\n",
    "visualiser.display_dataframe(cashflow_instance.total_cost_by_level('cost_category'))\n",
    "# visualiser.display_dataframe(cashflow_instance.df)\n",
    "# visualiser.display_dataframe(cashflow_instance.costs_summary())"
   ]
  },
  {
   "cell_type": "code",
   "execution_count": 5,
   "metadata": {
    "scrolled": true
   },
   "outputs": [],
   "source": [
    "# visualiser.plot_cost_summary(cashflow_instance)"
   ]
  },
  {
   "cell_type": "code",
   "execution_count": 6,
   "metadata": {
    "scrolled": true
   },
   "outputs": [],
   "source": [
    "# visualiser.plot_cumulative_cost_summary(cashflow_instance)"
   ]
  },
  {
   "cell_type": "code",
   "execution_count": 7,
   "metadata": {},
   "outputs": [],
   "source": [
    "# cashflow_instance.get_cumul_costs_for_date(\"31/01/2022\")"
   ]
  },
  {
   "cell_type": "code",
   "execution_count": 8,
   "metadata": {},
   "outputs": [],
   "source": [
    "# cashflow_instance.df.head()"
   ]
  },
  {
   "cell_type": "code",
   "execution_count": 9,
   "metadata": {},
   "outputs": [],
   "source": [
    "# cashflow csv source\n",
    "# cashflow_csv_file = '../data/jensco_cf - v2.csv'"
   ]
  },
  {
   "cell_type": "code",
   "execution_count": 10,
   "metadata": {},
   "outputs": [],
   "source": [
    "# create budget instance and cashflow instance\n",
    "# cashflow_instance = Cashflow.from_csv(cashflow_csv_file)"
   ]
  },
  {
   "cell_type": "code",
   "execution_count": 11,
   "metadata": {},
   "outputs": [],
   "source": [
    "# cashflow_instance.df.head()"
   ]
  },
  {
   "cell_type": "code",
   "execution_count": 12,
   "metadata": {},
   "outputs": [],
   "source": [
    "# cashflow_instance.costs_grouped_by_level('cost_category')\n"
   ]
  },
  {
   "cell_type": "code",
   "execution_count": null,
   "metadata": {},
   "outputs": [],
   "source": []
  }
 ],
 "metadata": {
  "kernelspec": {
   "display_name": "Loan Construction Env",
   "language": "python",
   "name": "loan_constructio_env"
  },
  "language_info": {
   "codemirror_mode": {
    "name": "ipython",
    "version": 3
   },
   "file_extension": ".py",
   "mimetype": "text/x-python",
   "name": "python",
   "nbconvert_exporter": "python",
   "pygments_lexer": "ipython3",
   "version": "3.11.5"
  }
 },
 "nbformat": 4,
 "nbformat_minor": 4
}
