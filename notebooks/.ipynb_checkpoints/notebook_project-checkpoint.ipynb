{
 "cells": [
  {
   "cell_type": "code",
   "execution_count": 1,
   "id": "e9493183",
   "metadata": {},
   "outputs": [
    {
     "name": "stdout",
     "output_type": "stream",
     "text": [
      "Automatic pdb calling has been turned ON\n"
     ]
    }
   ],
   "source": [
    "# imports\n",
    "\n",
    "# Adds the parent directory to the path to find the construction_loan package\n",
    "import sys\n",
    "sys.path.append('..')\n",
    "\n",
    "import pandas as pd\n",
    "from construction_loan.project import ProjectCosts\n",
    "from construction_loan.visualiser import DataVisualiser\n",
    "\n",
    "%pdb on\n",
    "\n",
    "visualiser = DataVisualiser()"
   ]
  },
  {
   "cell_type": "code",
   "execution_count": 2,
   "id": "e7b277e7-a3ce-4568-9a72-8e3a8fc7d3af",
   "metadata": {},
   "outputs": [],
   "source": [
    "# csv source\n",
    "csv_file_cashflow = '../data/jensco_cf - v2.csv'\n",
    "csv_file_budget = '../data/jensco_budget.csv'"
   ]
  },
  {
   "cell_type": "code",
   "execution_count": 3,
   "id": "65270006-2a80-499c-b210-0b2598617d98",
   "metadata": {},
   "outputs": [],
   "source": [
    "# ProjectCosts instances\n",
    "project_costs_1 = ProjectCosts.from_budget_csv(csv_file_budget)\n",
    "project_costs_2 = ProjectCosts.from_cashflow_csv(csv_file_cashflow)"
   ]
  },
  {
   "cell_type": "code",
   "execution_count": 7,
   "id": "df65cbe5-df11-4d3e-8eda-d7812026e502",
   "metadata": {},
   "outputs": [
    {
     "name": "stdout",
     "output_type": "stream",
     "text": [
      "project 1 - costs:\n",
      "\n",
      " cost_category            cost_type                                   supplier    \n",
      "Acquisition costs        Site acquisition                            NoData          7,740,000.00\n",
      "Other acquisition costs  Stamp Duty inc VAT (on actual purchase)     NoData            189,500.00\n",
      "                         Jensco legal costs land & S106              NoData             23,563.00\n",
      "                         Jensco legal costs funding (inc Oak North)  NoData             39,350.00\n",
      "                         Jensco legal costs - Kinetic funding        NoData             33,150.00\n",
      "                         Jensco legal fees - construction            NoData             38,400.00\n",
      "                         Bank Valuation Fees                         NoData             16,200.00\n",
      "                         Vat recovered on day 1 costs                NoData            -20,941.00\n",
      "Construction costs       Construction costs                          NoData         29,271,425.98\n",
      "Professional fees        Development Management Fee                  NoData            338,000.00\n",
      "                         Project managers & QS                       NoData            221,877.02\n",
      "                         M&E Consultant - client side                NoData             88,300.03\n",
      "                         Planning costs - see schedule               NoData            425,070.00\n",
      "                         Architect / Planning / Survey Fees          NoData             47,809.98\n",
      "                         Bank Fee Contingency                        NoData              2,000.01\n",
      "                         Material Storage Charges                    NoData              7,000.01\n",
      "                         Legal Fees and Accountancy                  NoData             26,676.00\n",
      "                         Unallocated fee contingency                 NoData             31,303.00\n",
      "Statutory costs          S106 / 278 (over build cost inclusion)      NoData            389,999.97\n",
      "Marketing                1st year mobilisation & marketing           NoData            249,999.98\n",
      "Other costs              Insurances - Developer Risk                 NoData             72,374.00\n",
      "                         Knight Frank (debt broker)                  Knight Frank      300,000.00\n",
      "Project contingency      Irrecoverable VAT (contingency)             NoData            100,000.00\n",
      "                         Risk Allowance (contingency)                NoData            983,659.98\n",
      "Total                                                                               40,614,717.96\n",
      "dtype: float64\n",
      "------------------------------------------------------------------------------------------------------------------------\n",
      "project 2 - costs:\n",
      "\n",
      " cost_category            cost_type                                   supplier    \n",
      "Acquisition costs        Site acquisition                            NoData          7,740,000.00\n",
      "Other acquisition costs  Stamp Duty inc VAT (on actual purchase)     NoData            189,500.00\n",
      "                         Jensco legal costs land & S106              NoData             23,563.00\n",
      "                         Jensco legal costs funding (inc Oak North)  NoData             39,350.00\n",
      "                         Jensco legal costs - Kinetic funding        NoData             33,150.00\n",
      "                         Jensco legal fees - construction            NoData             38,400.00\n",
      "                         Bank Valuation Fees                         NoData             16,200.00\n",
      "                         Vat recovered on day 1 costs                NoData            -20,941.00\n",
      "Construction costs       Construction costs                          NoData         29,271,426.00\n",
      "Professional fees        Development Management Fee                  NoData            338,000.00\n",
      "                         Project managers & QS                       NoData            221,877.00\n",
      "                         M&E Consultant - client side                NoData             88,300.00\n",
      "                         Planning costs - see schedule               NoData            425,070.00\n",
      "                         Architect / Planning / Survey Fees          NoData             47,811.00\n",
      "                         Bank Fee Contingency                        NoData              2,000.00\n",
      "                         Material Storage Charges                    NoData              7,000.00\n",
      "                         Legal Fees and Accountancy                  NoData             26,676.00\n",
      "                         Unallocated fee contingency                 NoData             31,303.00\n",
      "Statutory costs          S106 / 278 (over build cost inclusion)      NoData            390,000.00\n",
      "Marketing                1st year mobilisation & marketing           NoData            250,002.00\n",
      "Other costs              Insurances - Developer Risk                 NoData             72,374.00\n",
      "                         Knight Frank (debt broker)                  Knight Frank      300,000.00\n",
      "Project contingency      Irrecoverable VAT (contingency)             NoData            100,000.00\n",
      "                         Risk Allowance (contingency)                NoData            983,661.00\n",
      "Total                                                                               40,614,722.00\n",
      "dtype: float64\n",
      "------------------------------------------------------------------------------------------------------------------------\n",
      "variaance:\n",
      "\n",
      " cost_category            cost_type                                   supplier    \n",
      "Acquisition costs        Site acquisition                            NoData          0.00\n",
      "Other acquisition costs  Stamp Duty inc VAT (on actual purchase)     NoData          0.00\n",
      "                         Jensco legal costs land & S106              NoData          0.00\n",
      "                         Jensco legal costs funding (inc Oak North)  NoData          0.00\n",
      "                         Jensco legal costs - Kinetic funding        NoData          0.00\n",
      "                         Jensco legal fees - construction            NoData          0.00\n",
      "                         Bank Valuation Fees                         NoData          0.00\n",
      "                         Vat recovered on day 1 costs                NoData          0.00\n",
      "Construction costs       Construction costs                          NoData         -0.02\n",
      "Professional fees        Development Management Fee                  NoData          0.00\n",
      "                         Project managers & QS                       NoData          0.02\n",
      "                         M&E Consultant - client side                NoData          0.03\n",
      "                         Planning costs - see schedule               NoData          0.00\n",
      "                         Architect / Planning / Survey Fees          NoData         -1.02\n",
      "                         Bank Fee Contingency                        NoData          0.01\n",
      "                         Material Storage Charges                    NoData          0.01\n",
      "                         Legal Fees and Accountancy                  NoData          0.00\n",
      "                         Unallocated fee contingency                 NoData          0.00\n",
      "Statutory costs          S106 / 278 (over build cost inclusion)      NoData         -0.03\n",
      "Marketing                1st year mobilisation & marketing           NoData         -2.02\n",
      "Other costs              Insurances - Developer Risk                 NoData          0.00\n",
      "                         Knight Frank (debt broker)                  Knight Frank    0.00\n",
      "Project contingency      Irrecoverable VAT (contingency)             NoData          0.00\n",
      "                         Risk Allowance (contingency)                NoData         -1.02\n",
      "Total                                                                               -4.04\n",
      "dtype: float64\n"
     ]
    }
   ],
   "source": [
    "# list costs\n",
    "# print(\"project 1 - costs:\\n\\n\", project_costs_1.list_costs())\n",
    "# print(\"----\" * 30)\n",
    "# print(\"project 2 - costs:\\n\\n\", project_costs_2.list_costs())\n",
    "# costs_1 = project_costs_1.list_costs()\n",
    "# costs_2 = project_costs_2.list_costs()\n",
    "# print(\"----\" * 30)\n",
    "# print(\"variaance:\\n\\n\", costs_1 - costs_2)"
   ]
  },
  {
   "cell_type": "code",
   "execution_count": null,
   "id": "defc1577-089a-4b3b-b1f8-4bfb61991937",
   "metadata": {},
   "outputs": [],
   "source": []
  }
 ],
 "metadata": {
  "kernelspec": {
   "display_name": "Loan Construction Env",
   "language": "python",
   "name": "loan_constructio_env"
  },
  "language_info": {
   "codemirror_mode": {
    "name": "ipython",
    "version": 3
   },
   "file_extension": ".py",
   "mimetype": "text/x-python",
   "name": "python",
   "nbconvert_exporter": "python",
   "pygments_lexer": "ipython3",
   "version": "3.11.5"
  }
 },
 "nbformat": 4,
 "nbformat_minor": 5
}
