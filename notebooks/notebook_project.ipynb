{
 "cells": [
  {
   "cell_type": "code",
   "execution_count": 1,
   "id": "e9493183",
   "metadata": {},
   "outputs": [],
   "source": [
    "# imports\n",
    "\n",
    "# Adds the parent directory to the path to find the construction_loan package\n",
    "import sys\n",
    "sys.path.append('..')\n",
    "\n",
    "import pandas as pd\n",
    "from construction_loan.project import ProjectCosts\n",
    "from construction_loan.loan import Loan\n",
    "from construction_loan.visualiser import DataVisualiser\n",
    "\n",
    "# %pdb on\n",
    "\n",
    "visualiser = DataVisualiser()"
   ]
  },
  {
   "cell_type": "code",
   "execution_count": 2,
   "id": "e7b277e7-a3ce-4568-9a72-8e3a8fc7d3af",
   "metadata": {},
   "outputs": [],
   "source": [
    "# csv source\n",
    "# csv_file_cashflow = '../data/jensco_cf - v2.csv'\n",
    "csv_file_budget = '../data/jensco_budget.csv'"
   ]
  },
  {
   "cell_type": "code",
   "execution_count": 3,
   "id": "65270006-2a80-499c-b210-0b2598617d98",
   "metadata": {},
   "outputs": [],
   "source": [
    "# ProjectCosts instances\n",
    "project_costs_1 = ProjectCosts.from_budget_csv(csv_file_budget)\n",
    "# project_costs_2 = ProjectCosts.from_cashflow_csv(csv_file_cashflow)"
   ]
  },
  {
   "cell_type": "code",
   "execution_count": 4,
   "id": "df65cbe5-df11-4d3e-8eda-d7812026e502",
   "metadata": {},
   "outputs": [
    {
     "name": "stdout",
     "output_type": "stream",
     "text": [
      "project 1 - costs:\n",
      "\n",
      " cost_category            cost_type                                   supplier    \n",
      "Acquisition costs        Site acquisition                            NoData          7,740,000.00\n",
      "Other acquisition costs  Stamp Duty inc VAT (on actual purchase)     NoData            189,500.00\n",
      "                         Jensco legal costs land & S106              NoData             23,563.00\n",
      "                         Jensco legal costs funding (inc Oak North)  NoData             39,350.00\n",
      "                         Jensco legal costs - Kinetic funding        NoData             33,150.00\n",
      "                         Jensco legal fees - construction            NoData             38,400.00\n",
      "                         Bank Valuation Fees                         NoData             16,200.00\n",
      "                         Vat recovered on day 1 costs                NoData            -20,941.00\n",
      "Construction costs       Construction costs                          NoData         29,271,425.98\n",
      "Professional fees        Development Management Fee                  NoData            338,000.00\n",
      "                         Project managers & QS                       NoData            221,877.02\n",
      "                         M&E Consultant - client side                NoData             88,300.03\n",
      "                         Planning costs - see schedule               NoData            425,070.00\n",
      "                         Architect / Planning / Survey Fees          NoData             47,809.98\n",
      "                         Bank Fee Contingency                        NoData              2,000.01\n",
      "                         Material Storage Charges                    NoData              7,000.01\n",
      "                         Legal Fees and Accountancy                  NoData             26,676.00\n",
      "                         Unallocated fee contingency                 NoData             31,303.00\n",
      "Statutory costs          S106 / 278 (over build cost inclusion)      NoData            389,999.97\n",
      "Marketing                1st year mobilisation & marketing           NoData            249,999.98\n",
      "Other costs              Insurances - Developer Risk                 NoData             72,374.00\n",
      "                         Knight Frank (debt broker)                  Knight Frank      300,000.00\n",
      "Project contingency      Irrecoverable VAT (contingency)             NoData            100,000.00\n",
      "                         Risk Allowance (contingency)                NoData            983,659.98\n",
      "Total                                                                               40,614,717.96\n",
      "dtype: float64\n"
     ]
    }
   ],
   "source": [
    "# list costs\n",
    "print(\"project 1 - costs:\\n\\n\", project_costs_1.list_costs())\n",
    "# print(\"----\" * 30)\n",
    "# print(\"project 2 - costs:\\n\\n\", project_costs_2.list_costs())\n",
    "# costs_1 = project_costs_1.list_costs()\n",
    "# costs_2 = project_costs_2.list_costs()\n",
    "# print(\"----\" * 30)\n",
    "# print(\"variaance:\\n\\n\", costs_1 - costs_2)"
   ]
  },
  {
   "cell_type": "code",
   "execution_count": 5,
   "id": "defc1577-089a-4b3b-b1f8-4bfb61991937",
   "metadata": {},
   "outputs": [],
   "source": [
    "# cashflow\n",
    "# cashflow_summary = project_costs_1.grouped_by_level('cost_category')\n",
    "# cashflow_summary\n",
    "\n",
    "# multi_index = project_costs_1.cashflow.columns\n",
    "# filtered_index = multi_index[multi_index.get_level_values('cost_category') == 'Construction costs']\n",
    "# filtered_index"
   ]
  },
  {
   "cell_type": "code",
   "execution_count": 6,
   "id": "db66e885-94b0-46b9-a6b8-e0c1d45bd64c",
   "metadata": {},
   "outputs": [],
   "source": [
    "# cashflow_summary.sum()"
   ]
  },
  {
   "cell_type": "code",
   "execution_count": 7,
   "id": "5357880a-f391-4dad-a26e-256af2857cfe",
   "metadata": {},
   "outputs": [],
   "source": [
    "# funding_costs = cashflow_summary[\"total\"]\n",
    "# funding_costs"
   ]
  },
  {
   "cell_type": "code",
   "execution_count": 8,
   "id": "08231207-0e2e-4b09-aea0-81262853c80a",
   "metadata": {},
   "outputs": [],
   "source": [
    "# funding_costs.sum()"
   ]
  },
  {
   "cell_type": "code",
   "execution_count": 9,
   "id": "97852c52-1198-47ea-8bc8-6e808595e9ed",
   "metadata": {},
   "outputs": [
    {
     "data": {
      "text/plain": [
       "date\n",
       "2020-12-31   8,877,607.00\n",
       "2021-01-31           0.00\n",
       "2021-02-28   1,260,634.29\n",
       "2021-03-31   1,541,330.64\n",
       "2021-04-30   1,491,610.29\n",
       "2021-05-31   1,547,342.66\n",
       "2021-06-30   1,506,640.35\n",
       "2021-07-31   1,556,903.08\n",
       "2021-08-31   1,557,004.23\n",
       "2021-09-30   1,507,036.86\n",
       "2021-10-31   1,557,576.79\n",
       "2021-11-30   1,533,035.97\n",
       "2021-12-31   1,587,310.99\n",
       "2022-01-31   1,691,606.43\n",
       "2022-02-28   1,499,628.91\n",
       "2022-03-31   1,660,303.43\n",
       "2022-04-30   1,606,745.25\n",
       "2022-05-31   1,660,303.43\n",
       "2022-06-30   1,606,745.25\n",
       "2022-07-31   1,660,303.43\n",
       "2022-08-31   1,660,303.43\n",
       "2022-09-30   2,044,745.25\n",
       "Freq: M, Name: total, dtype: float64"
      ]
     },
     "execution_count": 9,
     "metadata": {},
     "output_type": "execute_result"
    }
   ],
   "source": [
    "fundable_costs = project_costs_1.fundable_costs\n",
    "fundable_costs"
   ]
  },
  {
   "cell_type": "code",
   "execution_count": 12,
   "id": "d1cdeb14-50f4-4fee-9ad7-34899fa9086c",
   "metadata": {},
   "outputs": [
    {
     "data": {
      "text/plain": [
       "21"
      ]
     },
     "execution_count": 12,
     "metadata": {},
     "output_type": "execute_result"
    }
   ],
   "source": [
    "loan = Loan()\n",
    "loan.calculate_terms(fundable_costs, ltc_covenant = 0.7, returns_targetted = 0.12)"
   ]
  },
  {
   "cell_type": "code",
   "execution_count": null,
   "id": "5c461c75-539a-4eb6-8551-c2eefcf95fd1",
   "metadata": {},
   "outputs": [],
   "source": []
  }
 ],
 "metadata": {
  "kernelspec": {
   "display_name": "Loan Construction Env",
   "language": "python",
   "name": "loan_constructio_env"
  },
  "language_info": {
   "codemirror_mode": {
    "name": "ipython",
    "version": 3
   },
   "file_extension": ".py",
   "mimetype": "text/x-python",
   "name": "python",
   "nbconvert_exporter": "python",
   "pygments_lexer": "ipython3",
   "version": "3.11.5"
  }
 },
 "nbformat": 4,
 "nbformat_minor": 5
}
